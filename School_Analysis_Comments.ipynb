{
 "cells": [
  {
   "cell_type": "markdown",
   "id": "6867f6a0",
   "metadata": {},
   "source": [
    "# School Count Vs House Price "
   ]
  },
  {
   "cell_type": "code",
   "execution_count": 1,
   "id": "943c08d5",
   "metadata": {},
   "outputs": [],
   "source": [
    "import matplotlib.pyplot as plt\n",
    "import pandas as pd\n",
    "import numpy as np\n",
    "import requests\n",
    "import time, json, os, csv\n",
    "import seaborn as sns\n",
    "import scipy.stats as st\n",
    "import datetime\n",
    "import random\n",
    "from scipy.stats import linregress\n",
    "from scipy.stats import ttest_ind\n",
    "from citipy import citipy\n",
    "from pprint import pprint"
   ]
  },
  {
   "cell_type": "code",
   "execution_count": 2,
   "id": "2b1a1b4d",
   "metadata": {},
   "outputs": [],
   "source": [
    "# Read data files\n",
    "house_df = pd.read_csv(\"data_source/cleaned_source_data/house_cleaned.csv\")\n",
    "school_df = pd.read_csv(\"data_source/cleaned_source_data/school_cleaned.csv\")"
   ]
  },
  {
   "cell_type": "code",
   "execution_count": 3,
   "id": "fda8436e",
   "metadata": {
    "scrolled": true
   },
   "outputs": [],
   "source": [
    "house_school_df = pd.merge(house_df, school_df, on=\"Suburb\", how=\"inner\")"
   ]
  },
  {
   "cell_type": "code",
   "execution_count": 4,
   "id": "811dde10",
   "metadata": {},
   "outputs": [],
   "source": [
    "house_df['Price'] = house_df['Price'].astype(int)"
   ]
  },
  {
   "cell_type": "code",
   "execution_count": 5,
   "id": "926671ac",
   "metadata": {},
   "outputs": [
    {
     "data": {
      "text/plain": [
       "Suburb\n",
       "Abbotsford      1033549.0\n",
       "Aberfeldie      1307193.0\n",
       "Airport West     751364.0\n",
       "Albanvale        536056.0\n",
       "Albert Park     1927651.0\n",
       "Name: Price, dtype: float64"
      ]
     },
     "execution_count": 5,
     "metadata": {},
     "output_type": "execute_result"
    }
   ],
   "source": [
    "avg_houseprice_eachsuburb = round(house_df.groupby([\"Suburb\"])[\"Price\"].mean())\n",
    "avg_houseprice_eachsuburb.head()"
   ]
  },
  {
   "cell_type": "code",
   "execution_count": 6,
   "id": "d7012a41",
   "metadata": {
    "scrolled": true
   },
   "outputs": [
    {
     "data": {
      "text/plain": [
       "Suburb\n",
       "Abbotsford      2\n",
       "Aberfeldie      2\n",
       "Aintree         1\n",
       "Aireys Inlet    1\n",
       "Airly           1\n",
       "               ..\n",
       "Yea             3\n",
       "Yering          1\n",
       "Yinnar          1\n",
       "Yinnar South    1\n",
       "Zeerust         1\n",
       "Name: School_Name, Length: 960, dtype: int64"
      ]
     },
     "execution_count": 6,
     "metadata": {},
     "output_type": "execute_result"
    }
   ],
   "source": [
    "all_school_count = school_df.groupby(['Suburb'])['School_Name'].count() \n",
    "all_school_count"
   ]
  },
  {
   "cell_type": "code",
   "execution_count": 7,
   "id": "06de2a0b",
   "metadata": {},
   "outputs": [],
   "source": [
    "#Combine results and Create a new DataFrame with obtained results\n",
    "\n",
    "result_df = pd.DataFrame({\n",
    "                        \"Average House Price\" : avg_houseprice_eachsuburb,\n",
    "                        \"Number of Schools\" : all_school_count,\n",
    "                    })\n"
   ]
  },
  {
   "cell_type": "code",
   "execution_count": 8,
   "id": "86aec289",
   "metadata": {},
   "outputs": [
    {
     "data": {
      "text/html": [
       "<div>\n",
       "<style scoped>\n",
       "    .dataframe tbody tr th:only-of-type {\n",
       "        vertical-align: middle;\n",
       "    }\n",
       "\n",
       "    .dataframe tbody tr th {\n",
       "        vertical-align: top;\n",
       "    }\n",
       "\n",
       "    .dataframe thead th {\n",
       "        text-align: right;\n",
       "    }\n",
       "</style>\n",
       "<table border=\"1\" class=\"dataframe\">\n",
       "  <thead>\n",
       "    <tr style=\"text-align: right;\">\n",
       "      <th></th>\n",
       "      <th>Average House Price</th>\n",
       "      <th>Number of Schools</th>\n",
       "    </tr>\n",
       "    <tr>\n",
       "      <th>Suburb</th>\n",
       "      <th></th>\n",
       "      <th></th>\n",
       "    </tr>\n",
       "  </thead>\n",
       "  <tbody>\n",
       "    <tr>\n",
       "      <th>Abbotsford</th>\n",
       "      <td>1033549.0</td>\n",
       "      <td>2.0</td>\n",
       "    </tr>\n",
       "    <tr>\n",
       "      <th>Aberfeldie</th>\n",
       "      <td>1307193.0</td>\n",
       "      <td>2.0</td>\n",
       "    </tr>\n",
       "    <tr>\n",
       "      <th>Airport West</th>\n",
       "      <td>751364.0</td>\n",
       "      <td>1.0</td>\n",
       "    </tr>\n",
       "    <tr>\n",
       "      <th>Albanvale</th>\n",
       "      <td>536056.0</td>\n",
       "      <td>1.0</td>\n",
       "    </tr>\n",
       "    <tr>\n",
       "      <th>Albert Park</th>\n",
       "      <td>1927651.0</td>\n",
       "      <td>3.0</td>\n",
       "    </tr>\n",
       "    <tr>\n",
       "      <th>...</th>\n",
       "      <td>...</td>\n",
       "      <td>...</td>\n",
       "    </tr>\n",
       "    <tr>\n",
       "      <th>Wonga Park</th>\n",
       "      <td>1357500.0</td>\n",
       "      <td>1.0</td>\n",
       "    </tr>\n",
       "    <tr>\n",
       "      <th>Wyndham Vale</th>\n",
       "      <td>511940.0</td>\n",
       "      <td>4.0</td>\n",
       "    </tr>\n",
       "    <tr>\n",
       "      <th>Yallambie</th>\n",
       "      <td>820861.0</td>\n",
       "      <td>1.0</td>\n",
       "    </tr>\n",
       "    <tr>\n",
       "      <th>Yarra Glen</th>\n",
       "      <td>620000.0</td>\n",
       "      <td>1.0</td>\n",
       "    </tr>\n",
       "    <tr>\n",
       "      <th>Yarraville</th>\n",
       "      <td>991245.0</td>\n",
       "      <td>5.0</td>\n",
       "    </tr>\n",
       "  </tbody>\n",
       "</table>\n",
       "<p>301 rows × 2 columns</p>\n",
       "</div>"
      ],
      "text/plain": [
       "              Average House Price  Number of Schools\n",
       "Suburb                                              \n",
       "Abbotsford              1033549.0                2.0\n",
       "Aberfeldie              1307193.0                2.0\n",
       "Airport West             751364.0                1.0\n",
       "Albanvale                536056.0                1.0\n",
       "Albert Park             1927651.0                3.0\n",
       "...                           ...                ...\n",
       "Wonga Park              1357500.0                1.0\n",
       "Wyndham Vale             511940.0                4.0\n",
       "Yallambie                820861.0                1.0\n",
       "Yarra Glen               620000.0                1.0\n",
       "Yarraville               991245.0                5.0\n",
       "\n",
       "[301 rows x 2 columns]"
      ]
     },
     "execution_count": 8,
     "metadata": {},
     "output_type": "execute_result"
    }
   ],
   "source": [
    "# drop Nan values\n",
    "AvgHousePrice_SchoolCount_df = result_df.dropna(axis=0, how='any', thresh=None, subset=None, inplace=False)\n",
    "AvgHousePrice_SchoolCount_df"
   ]
  },
  {
   "cell_type": "code",
   "execution_count": 9,
   "id": "4257bf9b",
   "metadata": {},
   "outputs": [
    {
     "data": {
      "text/html": [
       "<div>\n",
       "<style scoped>\n",
       "    .dataframe tbody tr th:only-of-type {\n",
       "        vertical-align: middle;\n",
       "    }\n",
       "\n",
       "    .dataframe tbody tr th {\n",
       "        vertical-align: top;\n",
       "    }\n",
       "\n",
       "    .dataframe thead th {\n",
       "        text-align: right;\n",
       "    }\n",
       "</style>\n",
       "<table border=\"1\" class=\"dataframe\">\n",
       "  <thead>\n",
       "    <tr style=\"text-align: right;\">\n",
       "      <th></th>\n",
       "      <th>Average House Price</th>\n",
       "      <th>Number of Schools</th>\n",
       "    </tr>\n",
       "    <tr>\n",
       "      <th>Suburb</th>\n",
       "      <th></th>\n",
       "      <th></th>\n",
       "    </tr>\n",
       "  </thead>\n",
       "  <tbody>\n",
       "    <tr>\n",
       "      <th>Mont Albert</th>\n",
       "      <td>1502767.0</td>\n",
       "      <td>1.0</td>\n",
       "    </tr>\n",
       "    <tr>\n",
       "      <th>Caulfield East</th>\n",
       "      <td>1060263.0</td>\n",
       "      <td>1.0</td>\n",
       "    </tr>\n",
       "    <tr>\n",
       "      <th>Caulfield</th>\n",
       "      <td>763531.0</td>\n",
       "      <td>1.0</td>\n",
       "    </tr>\n",
       "    <tr>\n",
       "      <th>Kealba</th>\n",
       "      <td>580250.0</td>\n",
       "      <td>1.0</td>\n",
       "    </tr>\n",
       "    <tr>\n",
       "      <th>Carrum</th>\n",
       "      <td>739625.0</td>\n",
       "      <td>1.0</td>\n",
       "    </tr>\n",
       "    <tr>\n",
       "      <th>...</th>\n",
       "      <td>...</td>\n",
       "      <td>...</td>\n",
       "    </tr>\n",
       "    <tr>\n",
       "      <th>Glen Waverley</th>\n",
       "      <td>1333909.0</td>\n",
       "      <td>13.0</td>\n",
       "    </tr>\n",
       "    <tr>\n",
       "      <th>St Albans</th>\n",
       "      <td>609180.0</td>\n",
       "      <td>13.0</td>\n",
       "    </tr>\n",
       "    <tr>\n",
       "      <th>Werribee</th>\n",
       "      <td>526852.0</td>\n",
       "      <td>14.0</td>\n",
       "    </tr>\n",
       "    <tr>\n",
       "      <th>Frankston</th>\n",
       "      <td>666631.0</td>\n",
       "      <td>14.0</td>\n",
       "    </tr>\n",
       "    <tr>\n",
       "      <th>Sunbury</th>\n",
       "      <td>539839.0</td>\n",
       "      <td>14.0</td>\n",
       "    </tr>\n",
       "  </tbody>\n",
       "</table>\n",
       "<p>301 rows × 2 columns</p>\n",
       "</div>"
      ],
      "text/plain": [
       "                Average House Price  Number of Schools\n",
       "Suburb                                                \n",
       "Mont Albert               1502767.0                1.0\n",
       "Caulfield East            1060263.0                1.0\n",
       "Caulfield                  763531.0                1.0\n",
       "Kealba                     580250.0                1.0\n",
       "Carrum                     739625.0                1.0\n",
       "...                             ...                ...\n",
       "Glen Waverley             1333909.0               13.0\n",
       "St Albans                  609180.0               13.0\n",
       "Werribee                   526852.0               14.0\n",
       "Frankston                  666631.0               14.0\n",
       "Sunbury                    539839.0               14.0\n",
       "\n",
       "[301 rows x 2 columns]"
      ]
     },
     "execution_count": 9,
     "metadata": {},
     "output_type": "execute_result"
    }
   ],
   "source": [
    "AvgHousePrice_SchoolCount_df.sort_values(by=['Number of Schools'])"
   ]
  },
  {
   "cell_type": "markdown",
   "id": "09b5b5a6",
   "metadata": {},
   "source": [
    "# Scatter plot "
   ]
  },
  {
   "cell_type": "markdown",
   "id": "004181f6",
   "metadata": {},
   "source": [
    "### Average House price of each suburb vs Number of schools in that Suburb"
   ]
  },
  {
   "cell_type": "code",
   "execution_count": 10,
   "id": "81b948f5",
   "metadata": {},
   "outputs": [
    {
     "data": {
      "image/png": "[encoded data removed]",
      "text/plain": [
       "<Figure size 432x288 with 1 Axes>"
      ]
     },
     "metadata": {
      "needs_background": "light"
     },
     "output_type": "display_data"
    }
   ],
   "source": [
    "plt.scatter(AvgHousePrice_SchoolCount_df[\"Average House Price\"],AvgHousePrice_SchoolCount_df[\"Number of Schools\"], facecolors = \"green\", marker = \"o\", edgecolor = \"white\")\n",
    "plt.title(\" Number of Schools vs Average House Price\")\n",
    "plt.ylabel(\"Number of Schools\")\n",
    "plt.xlabel(\"Average House Price (Million)\")\n",
    "plt.grid(True)\n",
    "plt.savefig(\"data_source/output/Suburb_AvgHousePrice_SchoolCount.png\")\n",
    "plt.show()"
   ]
  },
  {
   "cell_type": "markdown",
   "id": "b1b4e4a2",
   "metadata": {},
   "source": [
    "### Even if there are 10-14 schools in some suburbs.. the Average House Price stayed around 500 k to 750 k    \n"
   ]
  },
  {
   "cell_type": "markdown",
   "id": "4b6cae8f",
   "metadata": {},
   "source": [
    "###  Houses over 1.25 mil does not necessarily have a lot of Schools in their respective suburbs"
   ]
  },
  {
   "cell_type": "markdown",
   "id": "e086430d",
   "metadata": {},
   "source": [
    "### ------------------------------------------------------------------------------------------------------------------------------"
   ]
  },
  {
   "cell_type": "markdown",
   "id": "43b5811f",
   "metadata": {},
   "source": [
    "### In order to get a better picture we made Bins based on School Count"
   ]
  },
  {
   "cell_type": "markdown",
   "id": "2161e137",
   "metadata": {},
   "source": [
    "# School Group Bins"
   ]
  },
  {
   "cell_type": "code",
   "execution_count": 11,
   "id": "432e37ab",
   "metadata": {},
   "outputs": [],
   "source": [
    "school_bins = [0,3.99,7.99,11.99,99999]\n",
    "\n",
    "group_names = [\"<4\", \"4-8\",\"9-12\",\"12+\"]"
   ]
  },
  {
   "cell_type": "code",
   "execution_count": 12,
   "id": "47186849",
   "metadata": {},
   "outputs": [],
   "source": [
    "merge_schoolcount_df = pd.merge(school_df, AvgHousePrice_SchoolCount_df, on = \"Suburb\",  how = \"inner\")\n"
   ]
  },
  {
   "cell_type": "code",
   "execution_count": 13,
   "id": "26ed4337",
   "metadata": {},
   "outputs": [],
   "source": [
    "merge_schoolcount_df[\"School Count Group\"] = pd.cut(merge_schoolcount_df[\"Number of Schools\"], school_bins, labels=group_names)\n"
   ]
  },
  {
   "cell_type": "code",
   "execution_count": 14,
   "id": "f727a0b5",
   "metadata": {},
   "outputs": [],
   "source": [
    "SchoolCount_Group_df = merge_schoolcount_df.loc[:, [\"School Count Group\",\"School_Name\",\"Number of Schools\"]]\n"
   ]
  },
  {
   "cell_type": "code",
   "execution_count": 15,
   "id": "c7a2b2d8",
   "metadata": {},
   "outputs": [],
   "source": [
    "schoolgroup_houseprice_df = pd.merge(SchoolCount_Group_df,AvgHousePrice_SchoolCount_df, sort= True)\n"
   ]
  },
  {
   "cell_type": "code",
   "execution_count": 42,
   "id": "dd1a87e6",
   "metadata": {},
   "outputs": [
    {
     "data": {
      "image/png": "[encoded data removed]",
      "text/plain": [
       "<Figure size 432x288 with 1 Axes>"
      ]
     },
     "metadata": {
      "needs_background": "light"
     },
     "output_type": "display_data"
    }
   ],
   "source": [
    "plt.scatter(schoolgroup_houseprice_df[\"School Count Group\"],schoolgroup_houseprice_df[\"Average House Price\"], facecolors = \"maroon\", marker = \"o\", edgecolor = \"white\")\n",
    "plt.title(\" School Count Group vs Average House Price\")\n",
    "plt.ylabel(\"Average House Price (Millions)\")\n",
    "plt.xlabel(\"School Count Group\")\n",
    "plt.grid(True)\n",
    "plt.savefig(\"data_source/output/AvgHousePrice_SchoolCount_Group.png\")\n",
    "plt.show()"
   ]
  },
  {
   "cell_type": "markdown",
   "id": "cdc8e47d",
   "metadata": {},
   "source": [
    "### ------------------------------------------------------------------------------------------------------------------------------"
   ]
  },
  {
   "cell_type": "markdown",
   "id": "b8a9376f",
   "metadata": {},
   "source": [
    "# By Council Area"
   ]
  },
  {
   "cell_type": "code",
   "execution_count": 17,
   "id": "e77014b2",
   "metadata": {},
   "outputs": [
    {
     "data": {
      "text/html": [
       "<div>\n",
       "<style scoped>\n",
       "    .dataframe tbody tr th:only-of-type {\n",
       "        vertical-align: middle;\n",
       "    }\n",
       "\n",
       "    .dataframe tbody tr th {\n",
       "        vertical-align: top;\n",
       "    }\n",
       "\n",
       "    .dataframe thead th {\n",
       "        text-align: right;\n",
       "    }\n",
       "</style>\n",
       "<table border=\"1\" class=\"dataframe\">\n",
       "  <thead>\n",
       "    <tr style=\"text-align: right;\">\n",
       "      <th></th>\n",
       "      <th>Suburb_x</th>\n",
       "      <th>Address_x</th>\n",
       "      <th>Rooms</th>\n",
       "      <th>Type</th>\n",
       "      <th>Price</th>\n",
       "      <th>Method</th>\n",
       "      <th>SellerG</th>\n",
       "      <th>Date</th>\n",
       "      <th>Distance</th>\n",
       "      <th>Postcode_x</th>\n",
       "      <th>...</th>\n",
       "      <th>School_Name</th>\n",
       "      <th>School_Type</th>\n",
       "      <th>Address_y</th>\n",
       "      <th>Suburb_y</th>\n",
       "      <th>Postcode_y</th>\n",
       "      <th>Full_Phone_No</th>\n",
       "      <th>LGA_ID</th>\n",
       "      <th>LGA_Name</th>\n",
       "      <th>Longitude_y</th>\n",
       "      <th>Latitude_y</th>\n",
       "    </tr>\n",
       "  </thead>\n",
       "  <tbody>\n",
       "    <tr>\n",
       "      <th>0</th>\n",
       "      <td>Abbotsford</td>\n",
       "      <td>85 Turner St</td>\n",
       "      <td>2</td>\n",
       "      <td>h</td>\n",
       "      <td>1480000</td>\n",
       "      <td>S</td>\n",
       "      <td>Biggin</td>\n",
       "      <td>3/12/16</td>\n",
       "      <td>2.5</td>\n",
       "      <td>3067</td>\n",
       "      <td>...</td>\n",
       "      <td>Fitzroy Primary School</td>\n",
       "      <td>Primary</td>\n",
       "      <td>319 George Street</td>\n",
       "      <td>Fitzroy</td>\n",
       "      <td>3065</td>\n",
       "      <td>03 9417 4222</td>\n",
       "      <td>735</td>\n",
       "      <td>Yarra</td>\n",
       "      <td>144.981511</td>\n",
       "      <td>-37.799603</td>\n",
       "    </tr>\n",
       "    <tr>\n",
       "      <th>1</th>\n",
       "      <td>Abbotsford</td>\n",
       "      <td>85 Turner St</td>\n",
       "      <td>2</td>\n",
       "      <td>h</td>\n",
       "      <td>1480000</td>\n",
       "      <td>S</td>\n",
       "      <td>Biggin</td>\n",
       "      <td>3/12/16</td>\n",
       "      <td>2.5</td>\n",
       "      <td>3067</td>\n",
       "      <td>...</td>\n",
       "      <td>Carlton North Primary School</td>\n",
       "      <td>Primary</td>\n",
       "      <td>60 Lee Street</td>\n",
       "      <td>Carlton North</td>\n",
       "      <td>3054</td>\n",
       "      <td>03 9347 4822</td>\n",
       "      <td>735</td>\n",
       "      <td>Yarra</td>\n",
       "      <td>144.973028</td>\n",
       "      <td>-37.791064</td>\n",
       "    </tr>\n",
       "    <tr>\n",
       "      <th>2</th>\n",
       "      <td>Abbotsford</td>\n",
       "      <td>85 Turner St</td>\n",
       "      <td>2</td>\n",
       "      <td>h</td>\n",
       "      <td>1480000</td>\n",
       "      <td>S</td>\n",
       "      <td>Biggin</td>\n",
       "      <td>3/12/16</td>\n",
       "      <td>2.5</td>\n",
       "      <td>3067</td>\n",
       "      <td>...</td>\n",
       "      <td>Clifton Hill Primary School</td>\n",
       "      <td>Primary</td>\n",
       "      <td>185 Gold St</td>\n",
       "      <td>Clifton Hill</td>\n",
       "      <td>3068</td>\n",
       "      <td>03 9489 8333</td>\n",
       "      <td>735</td>\n",
       "      <td>Yarra</td>\n",
       "      <td>144.989245</td>\n",
       "      <td>-37.792308</td>\n",
       "    </tr>\n",
       "    <tr>\n",
       "      <th>3</th>\n",
       "      <td>Abbotsford</td>\n",
       "      <td>85 Turner St</td>\n",
       "      <td>2</td>\n",
       "      <td>h</td>\n",
       "      <td>1480000</td>\n",
       "      <td>S</td>\n",
       "      <td>Biggin</td>\n",
       "      <td>3/12/16</td>\n",
       "      <td>2.5</td>\n",
       "      <td>3067</td>\n",
       "      <td>...</td>\n",
       "      <td>Fitzroy North Primary School</td>\n",
       "      <td>Primary</td>\n",
       "      <td>3 Fergie Street</td>\n",
       "      <td>Fitzroy North</td>\n",
       "      <td>3068</td>\n",
       "      <td>03 9481 5860</td>\n",
       "      <td>735</td>\n",
       "      <td>Yarra</td>\n",
       "      <td>144.984149</td>\n",
       "      <td>-37.785020</td>\n",
       "    </tr>\n",
       "    <tr>\n",
       "      <th>4</th>\n",
       "      <td>Abbotsford</td>\n",
       "      <td>85 Turner St</td>\n",
       "      <td>2</td>\n",
       "      <td>h</td>\n",
       "      <td>1480000</td>\n",
       "      <td>S</td>\n",
       "      <td>Biggin</td>\n",
       "      <td>3/12/16</td>\n",
       "      <td>2.5</td>\n",
       "      <td>3067</td>\n",
       "      <td>...</td>\n",
       "      <td>Abbotsford Primary School</td>\n",
       "      <td>Primary</td>\n",
       "      <td>Lithgow Street</td>\n",
       "      <td>Abbotsford</td>\n",
       "      <td>3067</td>\n",
       "      <td>03 9428 5977</td>\n",
       "      <td>735</td>\n",
       "      <td>Yarra</td>\n",
       "      <td>144.998814</td>\n",
       "      <td>-37.808979</td>\n",
       "    </tr>\n",
       "  </tbody>\n",
       "</table>\n",
       "<p>5 rows × 31 columns</p>\n",
       "</div>"
      ],
      "text/plain": [
       "     Suburb_x     Address_x  Rooms Type    Price Method SellerG     Date  \\\n",
       "0  Abbotsford  85 Turner St      2    h  1480000      S  Biggin  3/12/16   \n",
       "1  Abbotsford  85 Turner St      2    h  1480000      S  Biggin  3/12/16   \n",
       "2  Abbotsford  85 Turner St      2    h  1480000      S  Biggin  3/12/16   \n",
       "3  Abbotsford  85 Turner St      2    h  1480000      S  Biggin  3/12/16   \n",
       "4  Abbotsford  85 Turner St      2    h  1480000      S  Biggin  3/12/16   \n",
       "\n",
       "   Distance  Postcode_x  ...                   School_Name  School_Type  \\\n",
       "0       2.5        3067  ...        Fitzroy Primary School      Primary   \n",
       "1       2.5        3067  ...  Carlton North Primary School      Primary   \n",
       "2       2.5        3067  ...   Clifton Hill Primary School      Primary   \n",
       "3       2.5        3067  ...  Fitzroy North Primary School      Primary   \n",
       "4       2.5        3067  ...     Abbotsford Primary School      Primary   \n",
       "\n",
       "           Address_y       Suburb_y  Postcode_y Full_Phone_No  LGA_ID  \\\n",
       "0  319 George Street        Fitzroy        3065  03 9417 4222     735   \n",
       "1      60 Lee Street  Carlton North        3054  03 9347 4822     735   \n",
       "2        185 Gold St   Clifton Hill        3068  03 9489 8333     735   \n",
       "3    3 Fergie Street  Fitzroy North        3068  03 9481 5860     735   \n",
       "4     Lithgow Street     Abbotsford        3067  03 9428 5977     735   \n",
       "\n",
       "   LGA_Name Longitude_y  Latitude_y  \n",
       "0    Yarra   144.981511  -37.799603  \n",
       "1    Yarra   144.973028  -37.791064  \n",
       "2    Yarra   144.989245  -37.792308  \n",
       "3    Yarra   144.984149  -37.785020  \n",
       "4    Yarra   144.998814  -37.808979  \n",
       "\n",
       "[5 rows x 31 columns]"
      ]
     },
     "execution_count": 17,
     "metadata": {},
     "output_type": "execute_result"
    }
   ],
   "source": [
    "merged_council_df = pd.merge(house_df, school_df, on= 'CouncilArea', how = 'inner' )\n",
    "merged_council_df.head()"
   ]
  },
  {
   "cell_type": "code",
   "execution_count": 18,
   "id": "449f2b9a",
   "metadata": {},
   "outputs": [],
   "source": [
    "mean_houseprice_eachCouncil = round(house_df.groupby([\"CouncilArea\"]).mean()[\"Price\"])"
   ]
  },
  {
   "cell_type": "code",
   "execution_count": 19,
   "id": "7b0a6587",
   "metadata": {},
   "outputs": [],
   "source": [
    "CouncilArea_school_count = school_df.groupby(['CouncilArea'])['School_Name'].count() "
   ]
  },
  {
   "cell_type": "code",
   "execution_count": 20,
   "id": "b492de4e",
   "metadata": {},
   "outputs": [],
   "source": [
    "merged_df = pd.DataFrame({ \"Average_House_Price\" : mean_houseprice_eachCouncil,\n",
    "                      \"Number_of_Schools\" : CouncilArea_school_count,\n",
    "                    })\n"
   ]
  },
  {
   "cell_type": "code",
   "execution_count": 21,
   "id": "68674c55",
   "metadata": {},
   "outputs": [
    {
     "data": {
      "text/html": [
       "<div>\n",
       "<style scoped>\n",
       "    .dataframe tbody tr th:only-of-type {\n",
       "        vertical-align: middle;\n",
       "    }\n",
       "\n",
       "    .dataframe tbody tr th {\n",
       "        vertical-align: top;\n",
       "    }\n",
       "\n",
       "    .dataframe thead th {\n",
       "        text-align: right;\n",
       "    }\n",
       "</style>\n",
       "<table border=\"1\" class=\"dataframe\">\n",
       "  <thead>\n",
       "    <tr style=\"text-align: right;\">\n",
       "      <th></th>\n",
       "      <th>Average_House_Price</th>\n",
       "      <th>Number_of_Schools</th>\n",
       "    </tr>\n",
       "    <tr>\n",
       "      <th>CouncilArea</th>\n",
       "      <th></th>\n",
       "      <th></th>\n",
       "    </tr>\n",
       "  </thead>\n",
       "  <tbody>\n",
       "    <tr>\n",
       "      <th>Banyule City Council</th>\n",
       "      <td>936369.0</td>\n",
       "      <td>43.0</td>\n",
       "    </tr>\n",
       "    <tr>\n",
       "      <th>Bayside City Council</th>\n",
       "      <td>1574122.0</td>\n",
       "      <td>28.0</td>\n",
       "    </tr>\n",
       "    <tr>\n",
       "      <th>Boroondara City Council</th>\n",
       "      <td>1667326.0</td>\n",
       "      <td>58.0</td>\n",
       "    </tr>\n",
       "    <tr>\n",
       "      <th>Brimbank City Council</th>\n",
       "      <td>682182.0</td>\n",
       "      <td>59.0</td>\n",
       "    </tr>\n",
       "    <tr>\n",
       "      <th>Cardinia Shire Council</th>\n",
       "      <td>572923.0</td>\n",
       "      <td>38.0</td>\n",
       "    </tr>\n",
       "  </tbody>\n",
       "</table>\n",
       "</div>"
      ],
      "text/plain": [
       "                         Average_House_Price  Number_of_Schools\n",
       "CouncilArea                                                    \n",
       "Banyule City Council                936369.0               43.0\n",
       "Bayside City Council               1574122.0               28.0\n",
       "Boroondara City Council            1667326.0               58.0\n",
       "Brimbank City Council               682182.0               59.0\n",
       "Cardinia Shire Council              572923.0               38.0"
      ]
     },
     "execution_count": 21,
     "metadata": {},
     "output_type": "execute_result"
    }
   ],
   "source": [
    "CouncilArea_AvgHousePrice_SchoolCount_df = merged_df.dropna(axis=0, how='any', thresh=None, subset=None, inplace=False)\n",
    "CouncilArea_AvgHousePrice_SchoolCount_df.head()"
   ]
  },
  {
   "cell_type": "code",
   "execution_count": 41,
   "id": "6730597c",
   "metadata": {},
   "outputs": [
    {
     "data": {
      "image/png": "[encoded data removed]",
      "text/plain": [
       "<Figure size 432x288 with 1 Axes>"
      ]
     },
     "metadata": {
      "needs_background": "light"
     },
     "output_type": "display_data"
    }
   ],
   "source": [
    "plt.scatter(CouncilArea_AvgHousePrice_SchoolCount_df[\"Average_House_Price\"],CouncilArea_AvgHousePrice_SchoolCount_df[\"Number_of_Schools\"], facecolors = \"green\", marker = \"o\", edgecolor = \"white\")\n",
    "plt.title(\" Council Area - Schools vs Average House Price\")\n",
    "plt.ylabel(\"Average House Price (Millions)\")\n",
    "plt.xlabel(\"Number of Schools\")\n",
    "plt.grid(True)\n",
    "plt.savefig(\"data_source/output/CouncilArea_AvgHousePrice_SchoolCount.png\")\n",
    "plt.show()"
   ]
  },
  {
   "cell_type": "code",
   "execution_count": null,
   "id": "b179a432",
   "metadata": {},
   "outputs": [],
   "source": []
  },
  {
   "cell_type": "markdown",
   "id": "788dd987",
   "metadata": {},
   "source": [
    "# Linear Regression of Average House price vs Number of Schools"
   ]
  },
  {
   "cell_type": "code",
   "execution_count": 23,
   "id": "e5a61ce1",
   "metadata": {},
   "outputs": [
    {
     "name": "stdout",
     "output_type": "stream",
     "text": [
      "The correlation coefficient between Average House Price and Number of Schools is -0.04\n",
      "The r-squared is: 0.0013904405936672295\n"
     ]
    },
    {
     "data": {
      "image/png": "[encoded data removed]",
      "text/plain": [
       "<Figure size 432x288 with 1 Axes>"
      ]
     },
     "metadata": {
      "needs_background": "light"
     },
     "output_type": "display_data"
    }
   ],
   "source": [
    "\n",
    "\n",
    "x_values= AvgHousePrice_SchoolCount_df[\"Average House Price\"].astype(int)\n",
    "\n",
    "y_values= AvgHousePrice_SchoolCount_df[\"Number of Schools\"].astype(int)\n",
    "print(f\"The correlation coefficient between Average House Price and Number of Schools is {round(st.pearsonr(x_values,y_values)[0],2)}\")\n",
    "\n",
    "color = 'red'\n",
    "(slope, intercept, rvalue, pvalue, stderr) = linregress(x_values, y_values)\n",
    "regress_values = x_values * slope + intercept\n",
    "line_eq = \"y = \" + str(round(slope,2)) + \"x + \" + str(round(intercept,2))\n",
    "\n",
    "\n",
    "plt.scatter(x_values, y_values, linewidths = 1,marker = \"o\",edgecolors = \"green\", color = \"black\")\n",
    "plt.plot(x_values,regress_values,color)\n",
    "plt.annotate(line_eq,(1500000,13), fontsize=15, color=\"black\")\n",
    "plt.title(\"Average House Price vs Number of Schools\")\n",
    "plt.xlabel('Average House Price (Million)')\n",
    "plt.ylabel('Number of Schools')\n",
    "print(f\"The r-squared is: {rvalue**2}\")\n",
    "plt.savefig(\"data_source/output/Regression_Suburb_AvgHousePrice_SchoolCount1.png\")\n",
    "plt.show()"
   ]
  },
  {
   "cell_type": "markdown",
   "id": "abdb97d7",
   "metadata": {},
   "source": [
    "### Correlation Coefficient between Average house Price and Number of Schools is Negetive -0.037"
   ]
  },
  {
   "cell_type": "code",
   "execution_count": 24,
   "id": "e57a4696",
   "metadata": {},
   "outputs": [
    {
     "data": {
      "text/html": [
       "<style  type=\"text/css\" >\n",
       "#T_36bde_row0_col0,#T_36bde_row1_col1{\n",
       "            background-color:  #b40426;\n",
       "            color:  #f1f1f1;\n",
       "        }#T_36bde_row0_col1,#T_36bde_row1_col0{\n",
       "            background-color:  #3b4cc0;\n",
       "            color:  #f1f1f1;\n",
       "        }</style><table id=\"T_36bde_\" ><thead>    <tr>        <th class=\"blank level0\" ></th>        <th class=\"col_heading level0 col0\" >Average House Price</th>        <th class=\"col_heading level0 col1\" >Number of Schools</th>    </tr></thead><tbody>\n",
       "                <tr>\n",
       "                        <th id=\"T_36bde_level0_row0\" class=\"row_heading level0 row0\" >Average House Price</th>\n",
       "                        <td id=\"T_36bde_row0_col0\" class=\"data row0 col0\" >1.000000</td>\n",
       "                        <td id=\"T_36bde_row0_col1\" class=\"data row0 col1\" >-0.037289</td>\n",
       "            </tr>\n",
       "            <tr>\n",
       "                        <th id=\"T_36bde_level0_row1\" class=\"row_heading level0 row1\" >Number of Schools</th>\n",
       "                        <td id=\"T_36bde_row1_col0\" class=\"data row1 col0\" >-0.037289</td>\n",
       "                        <td id=\"T_36bde_row1_col1\" class=\"data row1 col1\" >1.000000</td>\n",
       "            </tr>\n",
       "    </tbody></table>"
      ],
      "text/plain": [
       "<pandas.io.formats.style.Styler at 0x7ffb0c10c0d0>"
      ]
     },
     "execution_count": 24,
     "metadata": {},
     "output_type": "execute_result"
    }
   ],
   "source": [
    "AvgHousePrice_SchoolCount_df.corr().style.background_gradient(cmap ='coolwarm')"
   ]
  },
  {
   "cell_type": "code",
   "execution_count": null,
   "id": "f874d966",
   "metadata": {},
   "outputs": [],
   "source": []
  },
  {
   "cell_type": "markdown",
   "id": "117f1e84",
   "metadata": {},
   "source": [
    "# Government Vs Private"
   ]
  },
  {
   "cell_type": "code",
   "execution_count": 25,
   "id": "c49dedd9",
   "metadata": {
    "scrolled": true
   },
   "outputs": [
    {
     "data": {
      "text/html": [
       "<div>\n",
       "<style scoped>\n",
       "    .dataframe tbody tr th:only-of-type {\n",
       "        vertical-align: middle;\n",
       "    }\n",
       "\n",
       "    .dataframe tbody tr th {\n",
       "        vertical-align: top;\n",
       "    }\n",
       "\n",
       "    .dataframe thead th {\n",
       "        text-align: right;\n",
       "    }\n",
       "</style>\n",
       "<table border=\"1\" class=\"dataframe\">\n",
       "  <thead>\n",
       "    <tr style=\"text-align: right;\">\n",
       "      <th></th>\n",
       "      <th></th>\n",
       "      <th>value_counts</th>\n",
       "    </tr>\n",
       "    <tr>\n",
       "      <th>Suburb</th>\n",
       "      <th>Education_Sector</th>\n",
       "      <th></th>\n",
       "    </tr>\n",
       "  </thead>\n",
       "  <tbody>\n",
       "    <tr>\n",
       "      <th rowspan=\"2\" valign=\"top\">Abbotsford</th>\n",
       "      <th>Government</th>\n",
       "      <td>1</td>\n",
       "    </tr>\n",
       "    <tr>\n",
       "      <th>Private</th>\n",
       "      <td>1</td>\n",
       "    </tr>\n",
       "    <tr>\n",
       "      <th>Aberfeldie</th>\n",
       "      <th>Private</th>\n",
       "      <td>2</td>\n",
       "    </tr>\n",
       "    <tr>\n",
       "      <th>Aintree</th>\n",
       "      <th>Government</th>\n",
       "      <td>1</td>\n",
       "    </tr>\n",
       "    <tr>\n",
       "      <th>Aireys Inlet</th>\n",
       "      <th>Government</th>\n",
       "      <td>1</td>\n",
       "    </tr>\n",
       "    <tr>\n",
       "      <th>...</th>\n",
       "      <th>...</th>\n",
       "      <td>...</td>\n",
       "    </tr>\n",
       "    <tr>\n",
       "      <th>Yea</th>\n",
       "      <th>Private</th>\n",
       "      <td>1</td>\n",
       "    </tr>\n",
       "    <tr>\n",
       "      <th>Yering</th>\n",
       "      <th>Government</th>\n",
       "      <td>1</td>\n",
       "    </tr>\n",
       "    <tr>\n",
       "      <th>Yinnar</th>\n",
       "      <th>Government</th>\n",
       "      <td>1</td>\n",
       "    </tr>\n",
       "    <tr>\n",
       "      <th>Yinnar South</th>\n",
       "      <th>Government</th>\n",
       "      <td>1</td>\n",
       "    </tr>\n",
       "    <tr>\n",
       "      <th>Zeerust</th>\n",
       "      <th>Government</th>\n",
       "      <td>1</td>\n",
       "    </tr>\n",
       "  </tbody>\n",
       "</table>\n",
       "<p>1321 rows × 1 columns</p>\n",
       "</div>"
      ],
      "text/plain": [
       "                               value_counts\n",
       "Suburb       Education_Sector              \n",
       "Abbotsford   Government                   1\n",
       "             Private                      1\n",
       "Aberfeldie   Private                      2\n",
       "Aintree      Government                   1\n",
       "Aireys Inlet Government                   1\n",
       "...                                     ...\n",
       "Yea          Private                      1\n",
       "Yering       Government                   1\n",
       "Yinnar       Government                   1\n",
       "Yinnar South Government                   1\n",
       "Zeerust      Government                   1\n",
       "\n",
       "[1321 rows x 1 columns]"
      ]
     },
     "execution_count": 25,
     "metadata": {},
     "output_type": "execute_result"
    }
   ],
   "source": [
    "sector_data1 = school_df.groupby(['Suburb'])[\"Education_Sector\"].agg(['value_counts'])\n",
    "sector_data1"
   ]
  },
  {
   "cell_type": "code",
   "execution_count": 26,
   "id": "63d42da6",
   "metadata": {},
   "outputs": [],
   "source": [
    "school_df1 = school_df.loc[:, [\"Education_Sector\",\"School_Name\", \"Suburb\", \"Postcode\"]]\n"
   ]
  },
  {
   "cell_type": "code",
   "execution_count": 27,
   "id": "18caf24c",
   "metadata": {},
   "outputs": [],
   "source": [
    "government_sector = school_df.loc[school_df['Education_Sector'] == 'Government'] \n"
   ]
  },
  {
   "cell_type": "code",
   "execution_count": 28,
   "id": "f06586a6",
   "metadata": {},
   "outputs": [],
   "source": [
    "government_sector = government_sector[['Education_Sector','Suburb']]"
   ]
  },
  {
   "cell_type": "code",
   "execution_count": 29,
   "id": "8584bf35",
   "metadata": {},
   "outputs": [],
   "source": [
    "government_final = pd.merge(government_sector,AvgHousePrice_SchoolCount_df, on= 'Suburb')\n"
   ]
  },
  {
   "cell_type": "code",
   "execution_count": 30,
   "id": "ebdffbb2",
   "metadata": {},
   "outputs": [],
   "source": [
    "private_sector = school_df.loc[school_df['Education_Sector'] == 'Private'] "
   ]
  },
  {
   "cell_type": "code",
   "execution_count": 31,
   "id": "23d72ec8",
   "metadata": {},
   "outputs": [],
   "source": [
    "private_sector = private_sector[['Education_Sector','Suburb']]"
   ]
  },
  {
   "cell_type": "code",
   "execution_count": 32,
   "id": "5a624901",
   "metadata": {},
   "outputs": [],
   "source": [
    "private_final = pd.merge(private_sector,AvgHousePrice_SchoolCount_df, on= 'Suburb')"
   ]
  },
  {
   "cell_type": "code",
   "execution_count": 33,
   "id": "a014c364",
   "metadata": {},
   "outputs": [
    {
     "name": "stdout",
     "output_type": "stream",
     "text": [
      "The correlation coefficient between both factors is -0.21\n",
      "The correlation coefficient between both factors is -0.11\n"
     ]
    },
    {
     "data": {
      "image/png": "[encoded data removed]",
      "text/plain": [
       "<Figure size 800x600 with 1 Axes>"
      ]
     },
     "metadata": {
      "needs_background": "light"
     },
     "output_type": "display_data"
    }
   ],
   "source": [
    "fig = plt.figure(figsize=(8,6), dpi=100)\n",
    "\n",
    "plt.scatter(government_final[\"Number of Schools\"],government_final[\"Average House Price\"], marker = \"o\", facecolors = \"blue\", edgecolors = \"black\")\n",
    "correlation=st.pearsonr(government_final[\"Number of Schools\"],government_final[\"Average House Price\"])\n",
    "print(f\"The correlation coefficient between both factors is {round(correlation[0],2)}\")\n",
    "\n",
    "plt.scatter(private_final[\"Number of Schools\"],private_final[\"Average House Price\"], marker = \"o\", facecolors = \"red\", edgecolors = \"red\")\n",
    "correlation=st.pearsonr(private_final[\"Number of Schools\"],private_final[\"Average House Price\"])\n",
    "print(f\"The correlation coefficient between both factors is {round(correlation[0],2)}\")\n",
    "\n",
    "plt.xlabel(\"Number of Schools)\")\n",
    "plt.ylabel(\"Average House Price (Millions)\")\n",
    "plt.title (\"Correlation between Education sector Vs Average House Price \")\n",
    "\n",
    "fig.tight_layout()\n",
    "plt.savefig(\"data_source/output/Education_sector&AverageHousePrice.png\")\n",
    "plt.show()"
   ]
  },
  {
   "cell_type": "markdown",
   "id": "bb2ddeff",
   "metadata": {},
   "source": [
    "### The correlation coefficient between Government schools and House Price is  -0.21.\n"
   ]
  },
  {
   "cell_type": "markdown",
   "id": "8905c134",
   "metadata": {},
   "source": [
    "### The correlation coefficient between Private Schools and House Price is -0.11"
   ]
  },
  {
   "cell_type": "code",
   "execution_count": 34,
   "id": "4f3616b2",
   "metadata": {},
   "outputs": [
    {
     "data": {
      "text/html": [
       "<style  type=\"text/css\" >\n",
       "#T_47f5d_row0_col0,#T_47f5d_row1_col1{\n",
       "            background-color:  #b40426;\n",
       "            color:  #f1f1f1;\n",
       "        }#T_47f5d_row0_col1,#T_47f5d_row1_col0{\n",
       "            background-color:  #3b4cc0;\n",
       "            color:  #f1f1f1;\n",
       "        }</style><table id=\"T_47f5d_\" ><thead>    <tr>        <th class=\"blank level0\" ></th>        <th class=\"col_heading level0 col0\" >Average House Price</th>        <th class=\"col_heading level0 col1\" >Number of Schools</th>    </tr></thead><tbody>\n",
       "                <tr>\n",
       "                        <th id=\"T_47f5d_level0_row0\" class=\"row_heading level0 row0\" >Average House Price</th>\n",
       "                        <td id=\"T_47f5d_row0_col0\" class=\"data row0 col0\" >1.000000</td>\n",
       "                        <td id=\"T_47f5d_row0_col1\" class=\"data row0 col1\" >-0.211868</td>\n",
       "            </tr>\n",
       "            <tr>\n",
       "                        <th id=\"T_47f5d_level0_row1\" class=\"row_heading level0 row1\" >Number of Schools</th>\n",
       "                        <td id=\"T_47f5d_row1_col0\" class=\"data row1 col0\" >-0.211868</td>\n",
       "                        <td id=\"T_47f5d_row1_col1\" class=\"data row1 col1\" >1.000000</td>\n",
       "            </tr>\n",
       "    </tbody></table>"
      ],
      "text/plain": [
       "<pandas.io.formats.style.Styler at 0x7ffb11b88940>"
      ]
     },
     "execution_count": 34,
     "metadata": {},
     "output_type": "execute_result"
    }
   ],
   "source": [
    "government_final.corr().style.background_gradient(cmap ='coolwarm')"
   ]
  },
  {
   "cell_type": "code",
   "execution_count": 35,
   "id": "b2c08ce1",
   "metadata": {},
   "outputs": [
    {
     "data": {
      "text/html": [
       "<style  type=\"text/css\" >\n",
       "#T_76ec7_row0_col0,#T_76ec7_row1_col1{\n",
       "            background-color:  #b40426;\n",
       "            color:  #f1f1f1;\n",
       "        }#T_76ec7_row0_col1,#T_76ec7_row1_col0{\n",
       "            background-color:  #3b4cc0;\n",
       "            color:  #f1f1f1;\n",
       "        }</style><table id=\"T_76ec7_\" ><thead>    <tr>        <th class=\"blank level0\" ></th>        <th class=\"col_heading level0 col0\" >Average House Price</th>        <th class=\"col_heading level0 col1\" >Number of Schools</th>    </tr></thead><tbody>\n",
       "                <tr>\n",
       "                        <th id=\"T_76ec7_level0_row0\" class=\"row_heading level0 row0\" >Average House Price</th>\n",
       "                        <td id=\"T_76ec7_row0_col0\" class=\"data row0 col0\" >1.000000</td>\n",
       "                        <td id=\"T_76ec7_row0_col1\" class=\"data row0 col1\" >-0.113601</td>\n",
       "            </tr>\n",
       "            <tr>\n",
       "                        <th id=\"T_76ec7_level0_row1\" class=\"row_heading level0 row1\" >Number of Schools</th>\n",
       "                        <td id=\"T_76ec7_row1_col0\" class=\"data row1 col0\" >-0.113601</td>\n",
       "                        <td id=\"T_76ec7_row1_col1\" class=\"data row1 col1\" >1.000000</td>\n",
       "            </tr>\n",
       "    </tbody></table>"
      ],
      "text/plain": [
       "<pandas.io.formats.style.Styler at 0x7ffb11b88d00>"
      ]
     },
     "execution_count": 35,
     "metadata": {},
     "output_type": "execute_result"
    }
   ],
   "source": [
    "private_final.corr().style.background_gradient(cmap ='coolwarm')"
   ]
  },
  {
   "cell_type": "markdown",
   "id": "b3f38ff0",
   "metadata": {},
   "source": [
    "# Overall Summary Heat Maps"
   ]
  },
  {
   "cell_type": "code",
   "execution_count": 36,
   "id": "f2a11ec1",
   "metadata": {},
   "outputs": [
    {
     "data": {
      "text/plain": [
       "Index(['Suburb', 'Address_x', 'Rooms', 'Type', 'Price', 'Method', 'SellerG',\n",
       "       'Date', 'Distance', 'Postcode_x', 'Bathroom', 'Car', 'Landsize',\n",
       "       'BuildingArea', 'YearBuilt', 'CouncilArea_x', 'Latitude_x',\n",
       "       'Longitude_x', 'Regionname', 'Propertycount', 'Education_Sector',\n",
       "       'School_Name', 'School_Type', 'Address_y', 'Postcode_y',\n",
       "       'Full_Phone_No', 'LGA_ID', 'LGA_Name', 'CouncilArea_y', 'Longitude_y',\n",
       "       'Latitude_y'],\n",
       "      dtype='object')"
      ]
     },
     "execution_count": 36,
     "metadata": {},
     "output_type": "execute_result"
    }
   ],
   "source": [
    "house_school_df.columns"
   ]
  },
  {
   "cell_type": "code",
   "execution_count": 37,
   "id": "dd578670",
   "metadata": {},
   "outputs": [],
   "source": [
    "house_school_df = house_school_df[[\"Suburb\",\"Price\",\"Rooms\",\"Distance\",\"Bathroom\", \"Car\", \"Landsize\",\"BuildingArea\",\"YearBuilt\"]]\n"
   ]
  },
  {
   "cell_type": "code",
   "execution_count": 38,
   "id": "2f3f9987",
   "metadata": {},
   "outputs": [
    {
     "data": {
      "text/html": [
       "<style  type=\"text/css\" >\n",
       "#T_c4827_row0_col0,#T_c4827_row1_col1,#T_c4827_row2_col2,#T_c4827_row3_col3,#T_c4827_row4_col4,#T_c4827_row5_col5,#T_c4827_row6_col6,#T_c4827_row7_col7{\n",
       "            background-color:  #b40426;\n",
       "            color:  #f1f1f1;\n",
       "        }#T_c4827_row0_col1{\n",
       "            background-color:  #cbd8ee;\n",
       "            color:  #000000;\n",
       "        }#T_c4827_row0_col2,#T_c4827_row2_col0,#T_c4827_row2_col5,#T_c4827_row2_col6,#T_c4827_row2_col7,#T_c4827_row5_col1,#T_c4827_row5_col3,#T_c4827_row5_col4{\n",
       "            background-color:  #3b4cc0;\n",
       "            color:  #f1f1f1;\n",
       "        }#T_c4827_row0_col3,#T_c4827_row4_col7{\n",
       "            background-color:  #9abbff;\n",
       "            color:  #000000;\n",
       "        }#T_c4827_row0_col4{\n",
       "            background-color:  #6687ed;\n",
       "            color:  #000000;\n",
       "        }#T_c4827_row0_col5{\n",
       "            background-color:  #4257c9;\n",
       "            color:  #f1f1f1;\n",
       "        }#T_c4827_row0_col6,#T_c4827_row7_col1{\n",
       "            background-color:  #465ecf;\n",
       "            color:  #f1f1f1;\n",
       "        }#T_c4827_row0_col7{\n",
       "            background-color:  #3e51c5;\n",
       "            color:  #f1f1f1;\n",
       "        }#T_c4827_row1_col0{\n",
       "            background-color:  #ebd3c6;\n",
       "            color:  #000000;\n",
       "        }#T_c4827_row1_col2{\n",
       "            background-color:  #c4d5f3;\n",
       "            color:  #000000;\n",
       "        }#T_c4827_row1_col3{\n",
       "            background-color:  #c5d6f2;\n",
       "            color:  #000000;\n",
       "        }#T_c4827_row1_col4{\n",
       "            background-color:  #9bbcff;\n",
       "            color:  #000000;\n",
       "        }#T_c4827_row1_col5{\n",
       "            background-color:  #3f53c6;\n",
       "            color:  #f1f1f1;\n",
       "        }#T_c4827_row1_col6{\n",
       "            background-color:  #5470de;\n",
       "            color:  #000000;\n",
       "        }#T_c4827_row1_col7{\n",
       "            background-color:  #4c66d6;\n",
       "            color:  #000000;\n",
       "        }#T_c4827_row2_col1{\n",
       "            background-color:  #89acfd;\n",
       "            color:  #000000;\n",
       "        }#T_c4827_row2_col3{\n",
       "            background-color:  #445acc;\n",
       "            color:  #f1f1f1;\n",
       "        }#T_c4827_row2_col4{\n",
       "            background-color:  #5e7de7;\n",
       "            color:  #000000;\n",
       "        }#T_c4827_row3_col0{\n",
       "            background-color:  #d5dbe5;\n",
       "            color:  #000000;\n",
       "        }#T_c4827_row3_col1{\n",
       "            background-color:  #cdd9ec;\n",
       "            color:  #000000;\n",
       "        }#T_c4827_row3_col2{\n",
       "            background-color:  #98b9ff;\n",
       "            color:  #000000;\n",
       "        }#T_c4827_row3_col4{\n",
       "            background-color:  #f0cdbb;\n",
       "            color:  #000000;\n",
       "        }#T_c4827_row3_col5{\n",
       "            background-color:  #4e68d8;\n",
       "            color:  #000000;\n",
       "        }#T_c4827_row3_col6{\n",
       "            background-color:  #6a8bef;\n",
       "            color:  #000000;\n",
       "        }#T_c4827_row3_col7{\n",
       "            background-color:  #bfd3f6;\n",
       "            color:  #000000;\n",
       "        }#T_c4827_row4_col0,#T_c4827_row7_col3{\n",
       "            background-color:  #b2ccfb;\n",
       "            color:  #000000;\n",
       "        }#T_c4827_row4_col1{\n",
       "            background-color:  #a3c2fe;\n",
       "            color:  #000000;\n",
       "        }#T_c4827_row4_col2{\n",
       "            background-color:  #abc8fd;\n",
       "            color:  #000000;\n",
       "        }#T_c4827_row4_col3{\n",
       "            background-color:  #efcebd;\n",
       "            color:  #000000;\n",
       "        }#T_c4827_row4_col5{\n",
       "            background-color:  #4a63d3;\n",
       "            color:  #f1f1f1;\n",
       "        }#T_c4827_row4_col6{\n",
       "            background-color:  #5673e0;\n",
       "            color:  #000000;\n",
       "        }#T_c4827_row5_col0{\n",
       "            background-color:  #85a8fc;\n",
       "            color:  #000000;\n",
       "        }#T_c4827_row5_col2,#T_c4827_row7_col2{\n",
       "            background-color:  #7ea1fa;\n",
       "            color:  #000000;\n",
       "        }#T_c4827_row5_col6{\n",
       "            background-color:  #455cce;\n",
       "            color:  #f1f1f1;\n",
       "        }#T_c4827_row5_col7,#T_c4827_row7_col5{\n",
       "            background-color:  #3d50c3;\n",
       "            color:  #f1f1f1;\n",
       "        }#T_c4827_row6_col0{\n",
       "            background-color:  #93b5fe;\n",
       "            color:  #000000;\n",
       "        }#T_c4827_row6_col1{\n",
       "            background-color:  #5977e3;\n",
       "            color:  #000000;\n",
       "        }#T_c4827_row6_col2{\n",
       "            background-color:  #88abfd;\n",
       "            color:  #000000;\n",
       "        }#T_c4827_row6_col3{\n",
       "            background-color:  #6282ea;\n",
       "            color:  #000000;\n",
       "        }#T_c4827_row6_col4{\n",
       "            background-color:  #506bda;\n",
       "            color:  #000000;\n",
       "        }#T_c4827_row6_col5{\n",
       "            background-color:  #4f69d9;\n",
       "            color:  #000000;\n",
       "        }#T_c4827_row6_col7,#T_c4827_row7_col4{\n",
       "            background-color:  #8badfd;\n",
       "            color:  #000000;\n",
       "        }#T_c4827_row7_col0{\n",
       "            background-color:  #82a6fb;\n",
       "            color:  #000000;\n",
       "        }#T_c4827_row7_col6{\n",
       "            background-color:  #81a4fb;\n",
       "            color:  #000000;\n",
       "        }</style><table id=\"T_c4827_\" ><thead>    <tr>        <th class=\"blank level0\" ></th>        <th class=\"col_heading level0 col0\" >Price</th>        <th class=\"col_heading level0 col1\" >Rooms</th>        <th class=\"col_heading level0 col2\" >Distance</th>        <th class=\"col_heading level0 col3\" >Bathroom</th>        <th class=\"col_heading level0 col4\" >Car</th>        <th class=\"col_heading level0 col5\" >Landsize</th>        <th class=\"col_heading level0 col6\" >BuildingArea</th>        <th class=\"col_heading level0 col7\" >YearBuilt</th>    </tr></thead><tbody>\n",
       "                <tr>\n",
       "                        <th id=\"T_c4827_level0_row0\" class=\"row_heading level0 row0\" >Price</th>\n",
       "                        <td id=\"T_c4827_row0_col0\" class=\"data row0 col0\" >1.000000</td>\n",
       "                        <td id=\"T_c4827_row0_col1\" class=\"data row0 col1\" >0.454083</td>\n",
       "                        <td id=\"T_c4827_row0_col2\" class=\"data row0 col2\" >-0.244347</td>\n",
       "                        <td id=\"T_c4827_row0_col3\" class=\"data row0 col3\" >0.342366</td>\n",
       "                        <td id=\"T_c4827_row0_col4\" class=\"data row0 col4\" >0.199122</td>\n",
       "                        <td id=\"T_c4827_row0_col5\" class=\"data row0 col5\" >0.042166</td>\n",
       "                        <td id=\"T_c4827_row0_col6\" class=\"data row0 col6\" >0.090716</td>\n",
       "                        <td id=\"T_c4827_row0_col7\" class=\"data row0 col7\" >0.029112</td>\n",
       "            </tr>\n",
       "            <tr>\n",
       "                        <th id=\"T_c4827_level0_row1\" class=\"row_heading level0 row1\" >Rooms</th>\n",
       "                        <td id=\"T_c4827_row1_col0\" class=\"data row1 col0\" >0.454083</td>\n",
       "                        <td id=\"T_c4827_row1_col1\" class=\"data row1 col1\" >1.000000</td>\n",
       "                        <td id=\"T_c4827_row1_col2\" class=\"data row1 col2\" >0.268345</td>\n",
       "                        <td id=\"T_c4827_row1_col3\" class=\"data row1 col3\" >0.460822</td>\n",
       "                        <td id=\"T_c4827_row1_col4\" class=\"data row1 col4\" >0.339774</td>\n",
       "                        <td id=\"T_c4827_row1_col5\" class=\"data row1 col5\" >0.034740</td>\n",
       "                        <td id=\"T_c4827_row1_col6\" class=\"data row1 col6\" >0.130500</td>\n",
       "                        <td id=\"T_c4827_row1_col7\" class=\"data row1 col7\" >0.074963</td>\n",
       "            </tr>\n",
       "            <tr>\n",
       "                        <th id=\"T_c4827_level0_row2\" class=\"row_heading level0 row2\" >Distance</th>\n",
       "                        <td id=\"T_c4827_row2_col0\" class=\"data row2 col0\" >-0.244347</td>\n",
       "                        <td id=\"T_c4827_row2_col1\" class=\"data row2 col1\" >0.268345</td>\n",
       "                        <td id=\"T_c4827_row2_col2\" class=\"data row2 col2\" >1.000000</td>\n",
       "                        <td id=\"T_c4827_row2_col3\" class=\"data row2 col3\" >0.108238</td>\n",
       "                        <td id=\"T_c4827_row2_col4\" class=\"data row2 col4\" >0.177758</td>\n",
       "                        <td id=\"T_c4827_row2_col5\" class=\"data row2 col5\" >0.015773</td>\n",
       "                        <td id=\"T_c4827_row2_col6\" class=\"data row2 col6\" >0.050414</td>\n",
       "                        <td id=\"T_c4827_row2_col7\" class=\"data row2 col7\" >0.017004</td>\n",
       "            </tr>\n",
       "            <tr>\n",
       "                        <th id=\"T_c4827_level0_row3\" class=\"row_heading level0 row3\" >Bathroom</th>\n",
       "                        <td id=\"T_c4827_row3_col0\" class=\"data row3 col0\" >0.342366</td>\n",
       "                        <td id=\"T_c4827_row3_col1\" class=\"data row3 col1\" >0.460822</td>\n",
       "                        <td id=\"T_c4827_row3_col2\" class=\"data row3 col2\" >0.108238</td>\n",
       "                        <td id=\"T_c4827_row3_col3\" class=\"data row3 col3\" >1.000000</td>\n",
       "                        <td id=\"T_c4827_row3_col4\" class=\"data row3 col4\" >0.616694</td>\n",
       "                        <td id=\"T_c4827_row3_col5\" class=\"data row3 col5\" >0.077391</td>\n",
       "                        <td id=\"T_c4827_row3_col6\" class=\"data row3 col6\" >0.194901</td>\n",
       "                        <td id=\"T_c4827_row3_col7\" class=\"data row3 col7\" >0.405525</td>\n",
       "            </tr>\n",
       "            <tr>\n",
       "                        <th id=\"T_c4827_level0_row4\" class=\"row_heading level0 row4\" >Car</th>\n",
       "                        <td id=\"T_c4827_row4_col0\" class=\"data row4 col0\" >0.199122</td>\n",
       "                        <td id=\"T_c4827_row4_col1\" class=\"data row4 col1\" >0.339774</td>\n",
       "                        <td id=\"T_c4827_row4_col2\" class=\"data row4 col2\" >0.177758</td>\n",
       "                        <td id=\"T_c4827_row4_col3\" class=\"data row4 col3\" >0.616694</td>\n",
       "                        <td id=\"T_c4827_row4_col4\" class=\"data row4 col4\" >1.000000</td>\n",
       "                        <td id=\"T_c4827_row4_col5\" class=\"data row4 col5\" >0.069508</td>\n",
       "                        <td id=\"T_c4827_row4_col6\" class=\"data row4 col6\" >0.138403</td>\n",
       "                        <td id=\"T_c4827_row4_col7\" class=\"data row4 col7\" >0.297499</td>\n",
       "            </tr>\n",
       "            <tr>\n",
       "                        <th id=\"T_c4827_level0_row5\" class=\"row_heading level0 row5\" >Landsize</th>\n",
       "                        <td id=\"T_c4827_row5_col0\" class=\"data row5 col0\" >0.042166</td>\n",
       "                        <td id=\"T_c4827_row5_col1\" class=\"data row5 col1\" >0.034740</td>\n",
       "                        <td id=\"T_c4827_row5_col2\" class=\"data row5 col2\" >0.015773</td>\n",
       "                        <td id=\"T_c4827_row5_col3\" class=\"data row5 col3\" >0.077391</td>\n",
       "                        <td id=\"T_c4827_row5_col4\" class=\"data row5 col4\" >0.069508</td>\n",
       "                        <td id=\"T_c4827_row5_col5\" class=\"data row5 col5\" >1.000000</td>\n",
       "                        <td id=\"T_c4827_row5_col6\" class=\"data row5 col6\" >0.084807</td>\n",
       "                        <td id=\"T_c4827_row5_col7\" class=\"data row5 col7\" >0.026312</td>\n",
       "            </tr>\n",
       "            <tr>\n",
       "                        <th id=\"T_c4827_level0_row6\" class=\"row_heading level0 row6\" >BuildingArea</th>\n",
       "                        <td id=\"T_c4827_row6_col0\" class=\"data row6 col0\" >0.090716</td>\n",
       "                        <td id=\"T_c4827_row6_col1\" class=\"data row6 col1\" >0.130500</td>\n",
       "                        <td id=\"T_c4827_row6_col2\" class=\"data row6 col2\" >0.050414</td>\n",
       "                        <td id=\"T_c4827_row6_col3\" class=\"data row6 col3\" >0.194901</td>\n",
       "                        <td id=\"T_c4827_row6_col4\" class=\"data row6 col4\" >0.138403</td>\n",
       "                        <td id=\"T_c4827_row6_col5\" class=\"data row6 col5\" >0.084807</td>\n",
       "                        <td id=\"T_c4827_row6_col6\" class=\"data row6 col6\" >1.000000</td>\n",
       "                        <td id=\"T_c4827_row6_col7\" class=\"data row6 col7\" >0.255594</td>\n",
       "            </tr>\n",
       "            <tr>\n",
       "                        <th id=\"T_c4827_level0_row7\" class=\"row_heading level0 row7\" >YearBuilt</th>\n",
       "                        <td id=\"T_c4827_row7_col0\" class=\"data row7 col0\" >0.029112</td>\n",
       "                        <td id=\"T_c4827_row7_col1\" class=\"data row7 col1\" >0.074963</td>\n",
       "                        <td id=\"T_c4827_row7_col2\" class=\"data row7 col2\" >0.017004</td>\n",
       "                        <td id=\"T_c4827_row7_col3\" class=\"data row7 col3\" >0.405525</td>\n",
       "                        <td id=\"T_c4827_row7_col4\" class=\"data row7 col4\" >0.297499</td>\n",
       "                        <td id=\"T_c4827_row7_col5\" class=\"data row7 col5\" >0.026312</td>\n",
       "                        <td id=\"T_c4827_row7_col6\" class=\"data row7 col6\" >0.255594</td>\n",
       "                        <td id=\"T_c4827_row7_col7\" class=\"data row7 col7\" >1.000000</td>\n",
       "            </tr>\n",
       "    </tbody></table>"
      ],
      "text/plain": [
       "<pandas.io.formats.style.Styler at 0x7ffb08695550>"
      ]
     },
     "execution_count": 38,
     "metadata": {},
     "output_type": "execute_result"
    }
   ],
   "source": [
    "house_school_df.corr().style.background_gradient(cmap ='coolwarm')"
   ]
  },
  {
   "cell_type": "code",
   "execution_count": null,
   "id": "f4a82335",
   "metadata": {},
   "outputs": [],
   "source": []
  }
 ],
 "metadata": {
  "kernelspec": {
   "display_name": "Python 3",
   "language": "python",
   "name": "python3"
  },
  "language_info": {
   "codemirror_mode": {
    "name": "ipython",
    "version": 3
   },
   "file_extension": ".py",
   "mimetype": "text/x-python",
   "name": "python",
   "nbconvert_exporter": "python",
   "pygments_lexer": "ipython3",
   "version": "3.8.8"
  }
 },
 "nbformat": 4,
 "nbformat_minor": 5
}
