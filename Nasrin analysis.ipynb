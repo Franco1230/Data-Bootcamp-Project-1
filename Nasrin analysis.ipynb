{
 "cells": [
  {
   "cell_type": "code",
   "execution_count": 1,
   "source": [
    "# H0 = Therse is no difference between avg house prices in different distances from CBD. \r\n",
    "# H1 = The avg house price in closer distances from CBD is higher that further distances from CBD. "
   ],
   "outputs": [],
   "metadata": {}
  },
  {
   "cell_type": "code",
   "execution_count": 2,
   "source": [
    "# Dependencies and Setup\r\n",
    "import matplotlib.pyplot as plt\r\n",
    "import pandas as pd\r\n",
    "import numpy as np\r\n",
    "import requests\r\n",
    "import time, json, os, csv\r\n",
    "import scipy.stats as st\r\n",
    "\r\n",
    "from scipy.stats import linregress\r\n",
    "from citipy import citipy\r\n",
    "from pprint import pprint\r\n",
    "\r\n",
    "# Hi Markers, please use your onw API keys to run the script, thank you!\r\n",
    "#from api_keys import weather_api_key\r\n",
    "#from api_keys import g_key"
   ],
   "outputs": [],
   "metadata": {}
  },
  {
   "cell_type": "code",
   "execution_count": 3,
   "source": [
    "# Define function to set data type\r\n",
    "def set_integer(data_types, pddf):\r\n",
    "    for row in data_types:\r\n",
    "        pddf[row] = pddf[row].astype(int)\r\n",
    "\r\n",
    "# integer = int"
   ],
   "outputs": [],
   "metadata": {}
  },
  {
   "cell_type": "code",
   "execution_count": 4,
   "source": [
    "# Read data files\r\n",
    "house_data_path = \"data_source/Melbourne_housing_FULL.csv\"\r\n",
    "school_data_path = \"data_source/dv309_schoollocations2021.csv\"\r\n",
    "crime_rate_path = \"data_source/Data_Tables_LGA_Criminal_Incidents_Year_Ending_March_2021.xlsx\"\r\n",
    "\r\n",
    "house_data = pd.read_csv(house_data_path)\r\n",
    "school_data = pd.read_csv(school_data_path, encoding = \"cp1252\")\r\n",
    "crime_data = df = pd.read_excel (crime_rate_path, sheet_name = \"Table 03\")\r\n",
    "\r\n",
    "# Set output file path\r\n",
    "house_file = \"data_source/cleaned_source_data/house_cleaned.csv\"\r\n",
    "school_file = \"data_source/cleaned_source_data/school_cleaned.csv\"\r\n",
    "crime_file = \"data_source/cleaned_source_data/crime_cleaned.csv\""
   ],
   "outputs": [],
   "metadata": {}
  },
  {
   "cell_type": "code",
   "execution_count": 5,
   "source": [
    "house_data.head()"
   ],
   "outputs": [
    {
     "output_type": "execute_result",
     "data": {
      "text/html": [
       "<div>\n",
       "<style scoped>\n",
       "    .dataframe tbody tr th:only-of-type {\n",
       "        vertical-align: middle;\n",
       "    }\n",
       "\n",
       "    .dataframe tbody tr th {\n",
       "        vertical-align: top;\n",
       "    }\n",
       "\n",
       "    .dataframe thead th {\n",
       "        text-align: right;\n",
       "    }\n",
       "</style>\n",
       "<table border=\"1\" class=\"dataframe\">\n",
       "  <thead>\n",
       "    <tr style=\"text-align: right;\">\n",
       "      <th></th>\n",
       "      <th>Suburb</th>\n",
       "      <th>Address</th>\n",
       "      <th>Rooms</th>\n",
       "      <th>Type</th>\n",
       "      <th>Price</th>\n",
       "      <th>Method</th>\n",
       "      <th>SellerG</th>\n",
       "      <th>Date</th>\n",
       "      <th>Distance</th>\n",
       "      <th>Postcode</th>\n",
       "      <th>...</th>\n",
       "      <th>Bathroom</th>\n",
       "      <th>Car</th>\n",
       "      <th>Landsize</th>\n",
       "      <th>Building Area</th>\n",
       "      <th>Year Built</th>\n",
       "      <th>Council Area</th>\n",
       "      <th>Lattitude</th>\n",
       "      <th>Longtitude</th>\n",
       "      <th>Regionname</th>\n",
       "      <th>Property count</th>\n",
       "    </tr>\n",
       "  </thead>\n",
       "  <tbody>\n",
       "    <tr>\n",
       "      <th>0</th>\n",
       "      <td>Abbotsford</td>\n",
       "      <td>68 Studley St</td>\n",
       "      <td>2</td>\n",
       "      <td>h</td>\n",
       "      <td>NaN</td>\n",
       "      <td>SS</td>\n",
       "      <td>Jellis</td>\n",
       "      <td>3/09/2016</td>\n",
       "      <td>2.5</td>\n",
       "      <td>3067.0</td>\n",
       "      <td>...</td>\n",
       "      <td>1.0</td>\n",
       "      <td>1.0</td>\n",
       "      <td>126.0</td>\n",
       "      <td>NaN</td>\n",
       "      <td>NaN</td>\n",
       "      <td>Yarra City Council</td>\n",
       "      <td>-37.8014</td>\n",
       "      <td>144.9958</td>\n",
       "      <td>Northern Metropolitan</td>\n",
       "      <td>4019.0</td>\n",
       "    </tr>\n",
       "    <tr>\n",
       "      <th>1</th>\n",
       "      <td>Abbotsford</td>\n",
       "      <td>85 Turner St</td>\n",
       "      <td>2</td>\n",
       "      <td>h</td>\n",
       "      <td>1480000.0</td>\n",
       "      <td>S</td>\n",
       "      <td>Biggin</td>\n",
       "      <td>3/12/2016</td>\n",
       "      <td>2.5</td>\n",
       "      <td>3067.0</td>\n",
       "      <td>...</td>\n",
       "      <td>1.0</td>\n",
       "      <td>1.0</td>\n",
       "      <td>202.0</td>\n",
       "      <td>NaN</td>\n",
       "      <td>NaN</td>\n",
       "      <td>Yarra City Council</td>\n",
       "      <td>-37.7996</td>\n",
       "      <td>144.9984</td>\n",
       "      <td>Northern Metropolitan</td>\n",
       "      <td>4019.0</td>\n",
       "    </tr>\n",
       "    <tr>\n",
       "      <th>2</th>\n",
       "      <td>Abbotsford</td>\n",
       "      <td>25 Bloomburg St</td>\n",
       "      <td>2</td>\n",
       "      <td>h</td>\n",
       "      <td>1035000.0</td>\n",
       "      <td>S</td>\n",
       "      <td>Biggin</td>\n",
       "      <td>4/02/2016</td>\n",
       "      <td>2.5</td>\n",
       "      <td>3067.0</td>\n",
       "      <td>...</td>\n",
       "      <td>1.0</td>\n",
       "      <td>0.0</td>\n",
       "      <td>156.0</td>\n",
       "      <td>79.0</td>\n",
       "      <td>1900.0</td>\n",
       "      <td>Yarra City Council</td>\n",
       "      <td>-37.8079</td>\n",
       "      <td>144.9934</td>\n",
       "      <td>Northern Metropolitan</td>\n",
       "      <td>4019.0</td>\n",
       "    </tr>\n",
       "    <tr>\n",
       "      <th>3</th>\n",
       "      <td>Abbotsford</td>\n",
       "      <td>18/659 Victoria St</td>\n",
       "      <td>3</td>\n",
       "      <td>u</td>\n",
       "      <td>NaN</td>\n",
       "      <td>VB</td>\n",
       "      <td>Rounds</td>\n",
       "      <td>4/02/2016</td>\n",
       "      <td>2.5</td>\n",
       "      <td>3067.0</td>\n",
       "      <td>...</td>\n",
       "      <td>2.0</td>\n",
       "      <td>1.0</td>\n",
       "      <td>0.0</td>\n",
       "      <td>NaN</td>\n",
       "      <td>NaN</td>\n",
       "      <td>Yarra City Council</td>\n",
       "      <td>-37.8114</td>\n",
       "      <td>145.0116</td>\n",
       "      <td>Northern Metropolitan</td>\n",
       "      <td>4019.0</td>\n",
       "    </tr>\n",
       "    <tr>\n",
       "      <th>4</th>\n",
       "      <td>Abbotsford</td>\n",
       "      <td>5 Charles St</td>\n",
       "      <td>3</td>\n",
       "      <td>h</td>\n",
       "      <td>1465000.0</td>\n",
       "      <td>SP</td>\n",
       "      <td>Biggin</td>\n",
       "      <td>4/03/2017</td>\n",
       "      <td>2.5</td>\n",
       "      <td>3067.0</td>\n",
       "      <td>...</td>\n",
       "      <td>2.0</td>\n",
       "      <td>0.0</td>\n",
       "      <td>134.0</td>\n",
       "      <td>150.0</td>\n",
       "      <td>1900.0</td>\n",
       "      <td>Yarra City Council</td>\n",
       "      <td>-37.8093</td>\n",
       "      <td>144.9944</td>\n",
       "      <td>Northern Metropolitan</td>\n",
       "      <td>4019.0</td>\n",
       "    </tr>\n",
       "  </tbody>\n",
       "</table>\n",
       "<p>5 rows × 21 columns</p>\n",
       "</div>"
      ],
      "text/plain": [
       "       Suburb             Address  Rooms Type      Price Method SellerG  \\\n",
       "0  Abbotsford       68 Studley St      2    h        NaN     SS  Jellis   \n",
       "1  Abbotsford        85 Turner St      2    h  1480000.0      S  Biggin   \n",
       "2  Abbotsford     25 Bloomburg St      2    h  1035000.0      S  Biggin   \n",
       "3  Abbotsford  18/659 Victoria St      3    u        NaN     VB  Rounds   \n",
       "4  Abbotsford        5 Charles St      3    h  1465000.0     SP  Biggin   \n",
       "\n",
       "        Date  Distance  Postcode  ...  Bathroom  Car  Landsize  Building Area  \\\n",
       "0  3/09/2016       2.5    3067.0  ...       1.0  1.0     126.0            NaN   \n",
       "1  3/12/2016       2.5    3067.0  ...       1.0  1.0     202.0            NaN   \n",
       "2  4/02/2016       2.5    3067.0  ...       1.0  0.0     156.0           79.0   \n",
       "3  4/02/2016       2.5    3067.0  ...       2.0  1.0       0.0            NaN   \n",
       "4  4/03/2017       2.5    3067.0  ...       2.0  0.0     134.0          150.0   \n",
       "\n",
       "   Year Built        Council Area Lattitude  Longtitude  \\\n",
       "0         NaN  Yarra City Council  -37.8014    144.9958   \n",
       "1         NaN  Yarra City Council  -37.7996    144.9984   \n",
       "2      1900.0  Yarra City Council  -37.8079    144.9934   \n",
       "3         NaN  Yarra City Council  -37.8114    145.0116   \n",
       "4      1900.0  Yarra City Council  -37.8093    144.9944   \n",
       "\n",
       "              Regionname Property count  \n",
       "0  Northern Metropolitan         4019.0  \n",
       "1  Northern Metropolitan         4019.0  \n",
       "2  Northern Metropolitan         4019.0  \n",
       "3  Northern Metropolitan         4019.0  \n",
       "4  Northern Metropolitan         4019.0  \n",
       "\n",
       "[5 rows x 21 columns]"
      ]
     },
     "metadata": {},
     "execution_count": 5
    }
   ],
   "metadata": {}
  },
  {
   "cell_type": "code",
   "execution_count": 6,
   "source": [
    "# cleaning house data\r\n",
    "house_data_cleaned = house_data.dropna(subset = [\"Price\"])\r\n",
    "house_data_cleaned = house_data_cleaned.drop([\"Bedroom2\"], axis = \"columns\")\r\n",
    "house_data_cleaned = house_data_cleaned.fillna(0)\r\n",
    "\r\n",
    "# Set up a list for data type\r\n",
    "# column_list = [\"Postcode\",\r\n",
    "#                \"Bathroom\",\r\n",
    "#                \"Car\",\r\n",
    "#                \"Landsize\",\r\n",
    "#                \"BuildingArea\",\r\n",
    "#                \"YearBuilt\",\r\n",
    "#                \"Propertycount\",\r\n",
    "#                \"Rooms\"]\r\n",
    "\r\n",
    "# set_integer(column_list, house_data_cleaned)\r\n",
    "\r\n",
    "#house_data_cleaned[\"Price\"] = house_data_cleaned.apply(lambda x: \"{:,.0f}\".format(x[\"Price\"]), axis = 1)"
   ],
   "outputs": [],
   "metadata": {}
  },
  {
   "cell_type": "code",
   "execution_count": 7,
   "source": [
    "house_data_cleaned.head()"
   ],
   "outputs": [
    {
     "output_type": "execute_result",
     "data": {
      "text/html": [
       "<div>\n",
       "<style scoped>\n",
       "    .dataframe tbody tr th:only-of-type {\n",
       "        vertical-align: middle;\n",
       "    }\n",
       "\n",
       "    .dataframe tbody tr th {\n",
       "        vertical-align: top;\n",
       "    }\n",
       "\n",
       "    .dataframe thead th {\n",
       "        text-align: right;\n",
       "    }\n",
       "</style>\n",
       "<table border=\"1\" class=\"dataframe\">\n",
       "  <thead>\n",
       "    <tr style=\"text-align: right;\">\n",
       "      <th></th>\n",
       "      <th>Suburb</th>\n",
       "      <th>Address</th>\n",
       "      <th>Rooms</th>\n",
       "      <th>Type</th>\n",
       "      <th>Price</th>\n",
       "      <th>Method</th>\n",
       "      <th>SellerG</th>\n",
       "      <th>Date</th>\n",
       "      <th>Distance</th>\n",
       "      <th>Postcode</th>\n",
       "      <th>Bathroom</th>\n",
       "      <th>Car</th>\n",
       "      <th>Landsize</th>\n",
       "      <th>Building Area</th>\n",
       "      <th>Year Built</th>\n",
       "      <th>Council Area</th>\n",
       "      <th>Lattitude</th>\n",
       "      <th>Longtitude</th>\n",
       "      <th>Regionname</th>\n",
       "      <th>Property count</th>\n",
       "    </tr>\n",
       "  </thead>\n",
       "  <tbody>\n",
       "    <tr>\n",
       "      <th>1</th>\n",
       "      <td>Abbotsford</td>\n",
       "      <td>85 Turner St</td>\n",
       "      <td>2</td>\n",
       "      <td>h</td>\n",
       "      <td>1480000.0</td>\n",
       "      <td>S</td>\n",
       "      <td>Biggin</td>\n",
       "      <td>3/12/2016</td>\n",
       "      <td>2.5</td>\n",
       "      <td>3067.0</td>\n",
       "      <td>1.0</td>\n",
       "      <td>1.0</td>\n",
       "      <td>202.0</td>\n",
       "      <td>0.0</td>\n",
       "      <td>0.0</td>\n",
       "      <td>Yarra City Council</td>\n",
       "      <td>-37.7996</td>\n",
       "      <td>144.9984</td>\n",
       "      <td>Northern Metropolitan</td>\n",
       "      <td>4019.0</td>\n",
       "    </tr>\n",
       "    <tr>\n",
       "      <th>2</th>\n",
       "      <td>Abbotsford</td>\n",
       "      <td>25 Bloomburg St</td>\n",
       "      <td>2</td>\n",
       "      <td>h</td>\n",
       "      <td>1035000.0</td>\n",
       "      <td>S</td>\n",
       "      <td>Biggin</td>\n",
       "      <td>4/02/2016</td>\n",
       "      <td>2.5</td>\n",
       "      <td>3067.0</td>\n",
       "      <td>1.0</td>\n",
       "      <td>0.0</td>\n",
       "      <td>156.0</td>\n",
       "      <td>79.0</td>\n",
       "      <td>1900.0</td>\n",
       "      <td>Yarra City Council</td>\n",
       "      <td>-37.8079</td>\n",
       "      <td>144.9934</td>\n",
       "      <td>Northern Metropolitan</td>\n",
       "      <td>4019.0</td>\n",
       "    </tr>\n",
       "    <tr>\n",
       "      <th>4</th>\n",
       "      <td>Abbotsford</td>\n",
       "      <td>5 Charles St</td>\n",
       "      <td>3</td>\n",
       "      <td>h</td>\n",
       "      <td>1465000.0</td>\n",
       "      <td>SP</td>\n",
       "      <td>Biggin</td>\n",
       "      <td>4/03/2017</td>\n",
       "      <td>2.5</td>\n",
       "      <td>3067.0</td>\n",
       "      <td>2.0</td>\n",
       "      <td>0.0</td>\n",
       "      <td>134.0</td>\n",
       "      <td>150.0</td>\n",
       "      <td>1900.0</td>\n",
       "      <td>Yarra City Council</td>\n",
       "      <td>-37.8093</td>\n",
       "      <td>144.9944</td>\n",
       "      <td>Northern Metropolitan</td>\n",
       "      <td>4019.0</td>\n",
       "    </tr>\n",
       "    <tr>\n",
       "      <th>5</th>\n",
       "      <td>Abbotsford</td>\n",
       "      <td>40 Federation La</td>\n",
       "      <td>3</td>\n",
       "      <td>h</td>\n",
       "      <td>850000.0</td>\n",
       "      <td>PI</td>\n",
       "      <td>Biggin</td>\n",
       "      <td>4/03/2017</td>\n",
       "      <td>2.5</td>\n",
       "      <td>3067.0</td>\n",
       "      <td>2.0</td>\n",
       "      <td>1.0</td>\n",
       "      <td>94.0</td>\n",
       "      <td>0.0</td>\n",
       "      <td>0.0</td>\n",
       "      <td>Yarra City Council</td>\n",
       "      <td>-37.7969</td>\n",
       "      <td>144.9969</td>\n",
       "      <td>Northern Metropolitan</td>\n",
       "      <td>4019.0</td>\n",
       "    </tr>\n",
       "    <tr>\n",
       "      <th>6</th>\n",
       "      <td>Abbotsford</td>\n",
       "      <td>55a Park St</td>\n",
       "      <td>4</td>\n",
       "      <td>h</td>\n",
       "      <td>1600000.0</td>\n",
       "      <td>VB</td>\n",
       "      <td>Nelson</td>\n",
       "      <td>4/06/2016</td>\n",
       "      <td>2.5</td>\n",
       "      <td>3067.0</td>\n",
       "      <td>1.0</td>\n",
       "      <td>2.0</td>\n",
       "      <td>120.0</td>\n",
       "      <td>142.0</td>\n",
       "      <td>2014.0</td>\n",
       "      <td>Yarra City Council</td>\n",
       "      <td>-37.8072</td>\n",
       "      <td>144.9941</td>\n",
       "      <td>Northern Metropolitan</td>\n",
       "      <td>4019.0</td>\n",
       "    </tr>\n",
       "  </tbody>\n",
       "</table>\n",
       "</div>"
      ],
      "text/plain": [
       "       Suburb           Address  Rooms Type      Price Method SellerG  \\\n",
       "1  Abbotsford      85 Turner St      2    h  1480000.0      S  Biggin   \n",
       "2  Abbotsford   25 Bloomburg St      2    h  1035000.0      S  Biggin   \n",
       "4  Abbotsford      5 Charles St      3    h  1465000.0     SP  Biggin   \n",
       "5  Abbotsford  40 Federation La      3    h   850000.0     PI  Biggin   \n",
       "6  Abbotsford       55a Park St      4    h  1600000.0     VB  Nelson   \n",
       "\n",
       "        Date  Distance  Postcode  Bathroom  Car  Landsize  Building Area  \\\n",
       "1  3/12/2016       2.5    3067.0       1.0  1.0     202.0            0.0   \n",
       "2  4/02/2016       2.5    3067.0       1.0  0.0     156.0           79.0   \n",
       "4  4/03/2017       2.5    3067.0       2.0  0.0     134.0          150.0   \n",
       "5  4/03/2017       2.5    3067.0       2.0  1.0      94.0            0.0   \n",
       "6  4/06/2016       2.5    3067.0       1.0  2.0     120.0          142.0   \n",
       "\n",
       "   Year Built        Council Area  Lattitude  Longtitude  \\\n",
       "1         0.0  Yarra City Council   -37.7996    144.9984   \n",
       "2      1900.0  Yarra City Council   -37.8079    144.9934   \n",
       "4      1900.0  Yarra City Council   -37.8093    144.9944   \n",
       "5         0.0  Yarra City Council   -37.7969    144.9969   \n",
       "6      2014.0  Yarra City Council   -37.8072    144.9941   \n",
       "\n",
       "              Regionname  Property count  \n",
       "1  Northern Metropolitan          4019.0  \n",
       "2  Northern Metropolitan          4019.0  \n",
       "4  Northern Metropolitan          4019.0  \n",
       "5  Northern Metropolitan          4019.0  \n",
       "6  Northern Metropolitan          4019.0  "
      ]
     },
     "metadata": {},
     "execution_count": 7
    }
   ],
   "metadata": {}
  },
  {
   "cell_type": "code",
   "execution_count": 8,
   "source": [
    "number_house_in_each_suburb= house_data_cleaned[\"Suburb\"].value_counts()\r\n",
    "number_house_in_each_suburb"
   ],
   "outputs": [
    {
     "output_type": "execute_result",
     "data": {
      "text/plain": [
       "Reservoir          727\n",
       "Bentleigh East     493\n",
       "Richmond           439\n",
       "Preston            415\n",
       "Brunswick          387\n",
       "                  ... \n",
       "croydon              1\n",
       "Tecoma               1\n",
       "Cranbourne East      1\n",
       "Yarra Glen           1\n",
       "Kalkallo             1\n",
       "Name: Suburb, Length: 345, dtype: int64"
      ]
     },
     "metadata": {},
     "execution_count": 8
    }
   ],
   "metadata": {}
  },
  {
   "cell_type": "code",
   "execution_count": 9,
   "source": [
    "df = house_data_cleaned[['Suburb','Type','Price','Distance']].groupby(['Suburb']).mean()\r\n",
    "pd.set_option('display.float_format', lambda x: '%.2f' % x)\r\n",
    "df.head()"
   ],
   "outputs": [
    {
     "output_type": "execute_result",
     "data": {
      "text/html": [
       "<div>\n",
       "<style scoped>\n",
       "    .dataframe tbody tr th:only-of-type {\n",
       "        vertical-align: middle;\n",
       "    }\n",
       "\n",
       "    .dataframe tbody tr th {\n",
       "        vertical-align: top;\n",
       "    }\n",
       "\n",
       "    .dataframe thead th {\n",
       "        text-align: right;\n",
       "    }\n",
       "</style>\n",
       "<table border=\"1\" class=\"dataframe\">\n",
       "  <thead>\n",
       "    <tr style=\"text-align: right;\">\n",
       "      <th></th>\n",
       "      <th>Price</th>\n",
       "      <th>Distance</th>\n",
       "    </tr>\n",
       "    <tr>\n",
       "      <th>Suburb</th>\n",
       "      <th></th>\n",
       "      <th></th>\n",
       "    </tr>\n",
       "  </thead>\n",
       "  <tbody>\n",
       "    <tr>\n",
       "      <th>Abbotsford</th>\n",
       "      <td>1033549.02</td>\n",
       "      <td>2.70</td>\n",
       "    </tr>\n",
       "    <tr>\n",
       "      <th>Aberfeldie</th>\n",
       "      <td>1307192.86</td>\n",
       "      <td>8.30</td>\n",
       "    </tr>\n",
       "    <tr>\n",
       "      <th>Airport West</th>\n",
       "      <td>751364.25</td>\n",
       "      <td>11.90</td>\n",
       "    </tr>\n",
       "    <tr>\n",
       "      <th>Albanvale</th>\n",
       "      <td>536055.56</td>\n",
       "      <td>14.00</td>\n",
       "    </tr>\n",
       "    <tr>\n",
       "      <th>Albert Park</th>\n",
       "      <td>1927650.54</td>\n",
       "      <td>3.18</td>\n",
       "    </tr>\n",
       "  </tbody>\n",
       "</table>\n",
       "</div>"
      ],
      "text/plain": [
       "                  Price  Distance\n",
       "Suburb                           \n",
       "Abbotsford   1033549.02      2.70\n",
       "Aberfeldie   1307192.86      8.30\n",
       "Airport West  751364.25     11.90\n",
       "Albanvale     536055.56     14.00\n",
       "Albert Park  1927650.54      3.18"
      ]
     },
     "metadata": {},
     "execution_count": 9
    }
   ],
   "metadata": {}
  },
  {
   "cell_type": "code",
   "execution_count": 10,
   "source": [
    "x= df[\"Distance\"]\r\n",
    "y= df[\"Price\"]/1000000\r\n",
    "plt.scatter(x,y)\r\n",
    "plt.title(\"Average of House Price by Suburb\")\r\n",
    "plt.xlabel(\"Suburb based on Distance\")\r\n",
    "plt.ylabel(\"House Price by Suburb (in Million)\")\r\n",
    "plt.show()\r\n",
    "print(f\"The correlation coefficient between Average of House Price and Average of Distance from CBD is {round(st.pearsonr(x,y)[0],2)}\")\r\n",
    "\r\n",
    "file = os.path.join(\"Images/Suburb_Price_bar.png\")\r\n",
    "plt.savefig(file)"
   ],
   "outputs": [
    {
     "output_type": "display_data",
     "data": {
      "image/png": "[encoded data removed]",
      "text/plain": [
       "<Figure size 432x288 with 1 Axes>"
      ]
     },
     "metadata": {
      "needs_background": "light"
     }
    },
    {
     "output_type": "stream",
     "name": "stdout",
     "text": [
      "The correlation coefficient between Average of House Price and Average of Distance from CBD is -0.46\n"
     ]
    },
    {
     "output_type": "display_data",
     "data": {
      "text/plain": [
       "<Figure size 432x288 with 0 Axes>"
      ]
     },
     "metadata": {}
    }
   ],
   "metadata": {}
  },
  {
   "cell_type": "code",
   "execution_count": 11,
   "source": [
    "#Analysis: Due to huge volume of data in the cleanDataset, making conclusion from its plot is impossible and we need to do analysis based on some samples. \r\n",
    "#But the correlation coefficient between house price and distance from CBD is -0.46 that shows a weak negative relationship between these values."
   ],
   "outputs": [],
   "metadata": {}
  },
  {
   "cell_type": "code",
   "execution_count": 12,
   "source": [
    "top_ten_df= df.sort_values(by=\"Price\", ascending=False).head(10)\r\n",
    "\r\n",
    "x2= top_ten_df[\"Distance\"]\r\n",
    "y2= top_ten_df[\"Price\"]/1000000\r\n",
    "\r\n",
    "ax= top_ten_df.plot(kind='bar',width=1, align=\"edge\", title=\"Top 10 Average of House Price by Suburb\", facecolor=\"green\", legend=False)\r\n",
    "ax.set_xlabel(\"Suburb based on Distance\")\r\n",
    "ax.set_ylabel(\"House Price by Suburb (in Million)\")\r\n",
    "file = os.path.join(\"Images/top10_Suburb_Price_bar.png\")\r\n",
    "plt.savefig(file)"
   ],
   "outputs": [
    {
     "output_type": "display_data",
     "data": {
      "image/png": "[encoded data removed]",
      "text/plain": [
       "<Figure size 432x288 with 1 Axes>"
      ]
     },
     "metadata": {
      "needs_background": "light"
     }
    }
   ],
   "metadata": {}
  },
  {
   "cell_type": "code",
   "execution_count": 13,
   "source": [
    "#Analysis: We took 10 Suburbs with the highest amount of average house price in Melbourne and can be seen a downward trend in the relationship between their average price and distance from CBD. "
   ],
   "outputs": [],
   "metadata": {}
  },
  {
   "cell_type": "code",
   "execution_count": 14,
   "source": [
    "(slope, intercept, rvalue, pvalue, std_err) = linregress(x2, y2)\r\n",
    "\r\n",
    "line = slope * x2 + intercept\r\n",
    "line_eq = f\"y = {round(slope,2)}x + {round(intercept,2)}\"\r\n",
    "\r\n",
    "fig, axs = plt.subplots(figsize=(7,7))\r\n",
    "axs.set_autoscale_on(True)\r\n",
    "axs.scatter(x2, y2, marker='*', facecolors=\"blue\", edgecolors=\"blue\")\r\n",
    "plt.plot(x2, line, 'r-')\r\n",
    "plt.title(\"Top 10 Average of House Price by Suburb\")\r\n",
    "plt.xlabel(\"Suburb based on Distance\")\r\n",
    "plt.ylabel(\"House Price by Suburb (in Million)\")\r\n",
    "plt.annotate(line_eq, (-50,80), fontsize=12, color=\"red\")\r\n",
    "\r\n",
    "file = os.path.join(\"Images/top10_Suburb_Price_scatter.png\")\r\n",
    "plt.savefig(file)\r\n",
    "plt.show()\r\n",
    "print(f\"The regression line is: {line_eq}\")\r\n",
    "print(f\"The correlation coefficient between top10 Average of House Price and Average of Distance from CBD is {round(st.pearsonr(x2,y2)[0],2)}, pvalue is {pvalue}\")\r\n"
   ],
   "outputs": [
    {
     "output_type": "display_data",
     "data": {
      "image/png": "[encoded data removed]",
      "text/plain": [
       "<Figure size 504x504 with 1 Axes>"
      ]
     },
     "metadata": {
      "needs_background": "light"
     }
    },
    {
     "output_type": "stream",
     "name": "stdout",
     "text": [
      "The regression line is: y = -0.01x + 2.05\n",
      "The correlation coefficient between top10 Average of House Price and Average of Distance from CBD is -0.11, pvalue is 0.7712149196104119\n"
     ]
    }
   ],
   "metadata": {}
  },
  {
   "cell_type": "code",
   "execution_count": 15,
   "source": [
    "#Analysis: There is a slight negative relationship between the average house price and distance from CBD among top 10 highest house price in different suburbs in Melbourne,\r\n",
    "#based on the above red line and the small negative amount of slope(-0.01). \r\n",
    "#Also the correlation coefficient between top 10 house price and distance from CBD is -0.11 which is less than 0.3 and shows a very weak negative relationship between these values.\r\n",
    "#In addition, the amount of pvalue(0.77) which is more than 0.05 proves our H0 which means there is no difference between average of house price and distance from CBD in top 10 highest house price in different suburbs."
   ],
   "outputs": [],
   "metadata": {}
  },
  {
   "cell_type": "code",
   "execution_count": 16,
   "source": [
    "suburb_price_distance_grouped_df = house_data_cleaned[['Suburb','Type','Price','Distance']].groupby(['Suburb','Type']).mean()\r\n",
    "pd.set_option('display.float_format', lambda x: '%.2f' % x)\r\n",
    "suburb_price_distance_grouped_df.head()"
   ],
   "outputs": [
    {
     "output_type": "execute_result",
     "data": {
      "text/html": [
       "<div>\n",
       "<style scoped>\n",
       "    .dataframe tbody tr th:only-of-type {\n",
       "        vertical-align: middle;\n",
       "    }\n",
       "\n",
       "    .dataframe tbody tr th {\n",
       "        vertical-align: top;\n",
       "    }\n",
       "\n",
       "    .dataframe thead th {\n",
       "        text-align: right;\n",
       "    }\n",
       "</style>\n",
       "<table border=\"1\" class=\"dataframe\">\n",
       "  <thead>\n",
       "    <tr style=\"text-align: right;\">\n",
       "      <th></th>\n",
       "      <th></th>\n",
       "      <th>Price</th>\n",
       "      <th>Distance</th>\n",
       "    </tr>\n",
       "    <tr>\n",
       "      <th>Suburb</th>\n",
       "      <th>Type</th>\n",
       "      <th></th>\n",
       "      <th></th>\n",
       "    </tr>\n",
       "  </thead>\n",
       "  <tbody>\n",
       "    <tr>\n",
       "      <th rowspan=\"3\" valign=\"top\">Abbotsford</th>\n",
       "      <th>h</th>\n",
       "      <td>1221023.44</td>\n",
       "      <td>2.70</td>\n",
       "    </tr>\n",
       "    <tr>\n",
       "      <th>t</th>\n",
       "      <td>1041500.00</td>\n",
       "      <td>2.58</td>\n",
       "    </tr>\n",
       "    <tr>\n",
       "      <th>u</th>\n",
       "      <td>657109.38</td>\n",
       "      <td>2.73</td>\n",
       "    </tr>\n",
       "    <tr>\n",
       "      <th rowspan=\"2\" valign=\"top\">Aberfeldie</th>\n",
       "      <th>h</th>\n",
       "      <td>1578846.94</td>\n",
       "      <td>8.28</td>\n",
       "    </tr>\n",
       "    <tr>\n",
       "      <th>t</th>\n",
       "      <td>1195000.00</td>\n",
       "      <td>8.46</td>\n",
       "    </tr>\n",
       "  </tbody>\n",
       "</table>\n",
       "</div>"
      ],
      "text/plain": [
       "                     Price  Distance\n",
       "Suburb     Type                     \n",
       "Abbotsford h    1221023.44      2.70\n",
       "           t    1041500.00      2.58\n",
       "           u     657109.38      2.73\n",
       "Aberfeldie h    1578846.94      8.28\n",
       "           t    1195000.00      8.46"
      ]
     },
     "metadata": {},
     "execution_count": 16
    }
   ],
   "metadata": {}
  },
  {
   "cell_type": "code",
   "execution_count": 17,
   "source": [
    "twenty_highest_price= suburb_price_distance_grouped_df.sort_values(by=\"Price\", ascending=False).head(20)\r\n",
    "twenty_highest_price.head(20)"
   ],
   "outputs": [
    {
     "output_type": "execute_result",
     "data": {
      "text/html": [
       "<div>\n",
       "<style scoped>\n",
       "    .dataframe tbody tr th:only-of-type {\n",
       "        vertical-align: middle;\n",
       "    }\n",
       "\n",
       "    .dataframe tbody tr th {\n",
       "        vertical-align: top;\n",
       "    }\n",
       "\n",
       "    .dataframe thead th {\n",
       "        text-align: right;\n",
       "    }\n",
       "</style>\n",
       "<table border=\"1\" class=\"dataframe\">\n",
       "  <thead>\n",
       "    <tr style=\"text-align: right;\">\n",
       "      <th></th>\n",
       "      <th></th>\n",
       "      <th>Price</th>\n",
       "      <th>Distance</th>\n",
       "    </tr>\n",
       "    <tr>\n",
       "      <th>Suburb</th>\n",
       "      <th>Type</th>\n",
       "      <th></th>\n",
       "      <th></th>\n",
       "    </tr>\n",
       "  </thead>\n",
       "  <tbody>\n",
       "    <tr>\n",
       "      <th>Toorak</th>\n",
       "      <th>h</th>\n",
       "      <td>3392791.67</td>\n",
       "      <td>4.46</td>\n",
       "    </tr>\n",
       "    <tr>\n",
       "      <th>East Melbourne</th>\n",
       "      <th>h</th>\n",
       "      <td>2897777.78</td>\n",
       "      <td>1.43</td>\n",
       "    </tr>\n",
       "    <tr>\n",
       "      <th>Malvern</th>\n",
       "      <th>h</th>\n",
       "      <td>2868347.22</td>\n",
       "      <td>6.69</td>\n",
       "    </tr>\n",
       "    <tr>\n",
       "      <th>Canterbury</th>\n",
       "      <th>h</th>\n",
       "      <td>2858516.39</td>\n",
       "      <td>8.70</td>\n",
       "    </tr>\n",
       "    <tr>\n",
       "      <th>Armadale</th>\n",
       "      <th>h</th>\n",
       "      <td>2575845.59</td>\n",
       "      <td>6.30</td>\n",
       "    </tr>\n",
       "    <tr>\n",
       "      <th>Brighton</th>\n",
       "      <th>h</th>\n",
       "      <td>2565902.22</td>\n",
       "      <td>10.91</td>\n",
       "    </tr>\n",
       "    <tr>\n",
       "      <th>Middle Park</th>\n",
       "      <th>h</th>\n",
       "      <td>2482043.48</td>\n",
       "      <td>3.53</td>\n",
       "    </tr>\n",
       "    <tr>\n",
       "      <th>Deepdene</th>\n",
       "      <th>h</th>\n",
       "      <td>2430000.00</td>\n",
       "      <td>7.90</td>\n",
       "    </tr>\n",
       "    <tr>\n",
       "      <th>Kew</th>\n",
       "      <th>h</th>\n",
       "      <td>2342376.85</td>\n",
       "      <td>5.51</td>\n",
       "    </tr>\n",
       "    <tr>\n",
       "      <th>Balwyn</th>\n",
       "      <th>h</th>\n",
       "      <td>2297348.39</td>\n",
       "      <td>8.88</td>\n",
       "    </tr>\n",
       "    <tr>\n",
       "      <th>Hawthorn</th>\n",
       "      <th>h</th>\n",
       "      <td>2282609.65</td>\n",
       "      <td>4.98</td>\n",
       "    </tr>\n",
       "    <tr>\n",
       "      <th>Kooyong</th>\n",
       "      <th>h</th>\n",
       "      <td>2271250.00</td>\n",
       "      <td>6.05</td>\n",
       "    </tr>\n",
       "    <tr>\n",
       "      <th>Camberwell</th>\n",
       "      <th>h</th>\n",
       "      <td>2235126.90</td>\n",
       "      <td>7.75</td>\n",
       "    </tr>\n",
       "    <tr>\n",
       "      <th>Hawthorn East</th>\n",
       "      <th>h</th>\n",
       "      <td>2134788.66</td>\n",
       "      <td>6.96</td>\n",
       "    </tr>\n",
       "    <tr>\n",
       "      <th>Ivanhoe East</th>\n",
       "      <th>h</th>\n",
       "      <td>2109812.50</td>\n",
       "      <td>8.44</td>\n",
       "    </tr>\n",
       "    <tr>\n",
       "      <th>Parkville</th>\n",
       "      <th>h</th>\n",
       "      <td>2070456.52</td>\n",
       "      <td>2.39</td>\n",
       "    </tr>\n",
       "    <tr>\n",
       "      <th>Albert Park</th>\n",
       "      <th>h</th>\n",
       "      <td>2069187.50</td>\n",
       "      <td>3.18</td>\n",
       "    </tr>\n",
       "    <tr>\n",
       "      <th>Glen Iris</th>\n",
       "      <th>h</th>\n",
       "      <td>2028849.00</td>\n",
       "      <td>8.37</td>\n",
       "    </tr>\n",
       "    <tr>\n",
       "      <th>Mont Albert</th>\n",
       "      <th>h</th>\n",
       "      <td>1992760.87</td>\n",
       "      <td>11.10</td>\n",
       "    </tr>\n",
       "    <tr>\n",
       "      <th>Hampton</th>\n",
       "      <th>h</th>\n",
       "      <td>1978710.53</td>\n",
       "      <td>13.74</td>\n",
       "    </tr>\n",
       "  </tbody>\n",
       "</table>\n",
       "</div>"
      ],
      "text/plain": [
       "                         Price  Distance\n",
       "Suburb         Type                     \n",
       "Toorak         h    3392791.67      4.46\n",
       "East Melbourne h    2897777.78      1.43\n",
       "Malvern        h    2868347.22      6.69\n",
       "Canterbury     h    2858516.39      8.70\n",
       "Armadale       h    2575845.59      6.30\n",
       "Brighton       h    2565902.22     10.91\n",
       "Middle Park    h    2482043.48      3.53\n",
       "Deepdene       h    2430000.00      7.90\n",
       "Kew            h    2342376.85      5.51\n",
       "Balwyn         h    2297348.39      8.88\n",
       "Hawthorn       h    2282609.65      4.98\n",
       "Kooyong        h    2271250.00      6.05\n",
       "Camberwell     h    2235126.90      7.75\n",
       "Hawthorn East  h    2134788.66      6.96\n",
       "Ivanhoe East   h    2109812.50      8.44\n",
       "Parkville      h    2070456.52      2.39\n",
       "Albert Park    h    2069187.50      3.18\n",
       "Glen Iris      h    2028849.00      8.37\n",
       "Mont Albert    h    1992760.87     11.10\n",
       "Hampton        h    1978710.53     13.74"
      ]
     },
     "metadata": {},
     "execution_count": 17
    }
   ],
   "metadata": {}
  },
  {
   "cell_type": "code",
   "execution_count": 18,
   "source": [
    "x3= twenty_highest_price[\"Distance\"]\r\n",
    "y3= twenty_highest_price[\"Price\"]/1000000\r\n",
    "\r\n",
    "ax= twenty_highest_price.plot(kind='bar',width=1, align=\"edge\", title=\"Top 20 Average of House Price by Suburb& Type\", facecolor=\"orange\", legend=False)\r\n",
    "ax.set_xlabel(\"Suburb based on Distance& Type\")\r\n",
    "ax.set_ylabel(\"House Price by Suburb& Type (in Million)\")\r\n",
    "file = os.path.join(\"Images/top20_Suburb_Price_Type_bar.png\")\r\n",
    "plt.savefig(file)"
   ],
   "outputs": [
    {
     "output_type": "display_data",
     "data": {
      "image/png": "[encoded data removed]",
      "text/plain": [
       "<Figure size 432x288 with 1 Axes>"
      ]
     },
     "metadata": {
      "needs_background": "light"
     }
    }
   ],
   "metadata": {}
  },
  {
   "cell_type": "code",
   "execution_count": 19,
   "source": [
    "#Analysis: We included the type of Melbourne house from our dataset to our analysis as well. \r\n",
    "#It can be seen that there is a downward trend in the relationship between 20 Suburbs with the highest amount of average house price in Melbourne and their distance from CBD. \r\n",
    "#It is interesting that all types of these 20 houses are from \"h\" type which means that \"House Type\" has a stong effect on Melbourne house price."
   ],
   "outputs": [],
   "metadata": {}
  },
  {
   "cell_type": "code",
   "execution_count": 20,
   "source": [
    "(slope, intercept, rvalue, pvalue, std_err) = linregress(x3, y3)\r\n",
    "\r\n",
    "line = slope * x3 + intercept\r\n",
    "line_eq = f\"y = {round(slope,2)}x + {round(intercept,2)}\"\r\n",
    "\r\n",
    "fig, axs = plt.subplots(figsize=(7,7))\r\n",
    "axs.set_autoscale_on(True)\r\n",
    "axs.scatter(x3, y3, marker='s', facecolors=\"yellow\", edgecolors=\"blue\")\r\n",
    "plt.plot(x3, line, 'r-')\r\n",
    "plt.title(\"Top 20 Average of House Price by Suburb& Type\")\r\n",
    "plt.xlabel(\"Suburb based on Distance& Type\")\r\n",
    "plt.ylabel(\"House Price by Suburb& Type (in Million)\")\r\n",
    "plt.annotate(line_eq, (-50,80), fontsize=12, color=\"red\")\r\n",
    "\r\n",
    "file = os.path.join(\"Images/top20_Suburb_Price_Type_scatter.png\")\r\n",
    "plt.savefig(file)\r\n",
    "plt.show()\r\n",
    "print(f\"The regression line is: {line_eq}\")\r\n",
    "print(f\"The correlation coefficient between top20 Average of House Price in different types and Average of Distance from CBD is {round(st.pearsonr(x3,y3)[0],2)}, pvalue is {pvalue}\")\r\n"
   ],
   "outputs": [
    {
     "output_type": "display_data",
     "data": {
      "image/png": "[encoded data removed]",
      "text/plain": [
       "<Figure size 504x504 with 1 Axes>"
      ]
     },
     "metadata": {
      "needs_background": "light"
     }
    },
    {
     "output_type": "stream",
     "name": "stdout",
     "text": [
      "The regression line is: y = -0.04x + 2.66\n",
      "The correlation coefficient between top20 Average of House Price in different types and Average of Distance from CBD is -0.31, pvalue is 0.17644301310847893\n"
     ]
    }
   ],
   "metadata": {}
  },
  {
   "cell_type": "code",
   "execution_count": 21,
   "source": [
    "#Analysis: There is a negative relationship between the average house price and distance from CBD among top 20 highest house price in different suburbs& types in Melbourne,\r\n",
    "#which are grouped by different suburbs and types of houses, based on the above red line and the negative amount of slope(-0.04). \r\n",
    "#In addition, the correlation coefficient between top 20 house in different types and distance from CBD is -0.31 which proves a weak negative relationship between these values.\r\n",
    "#Furthermore, the pvalue(0.17) which is a little more than 0.05 proves our H0 which means there is no difference between average of house price and distance from CBD in top 20 highest house price in different suburbs&types."
   ],
   "outputs": [],
   "metadata": {}
  },
  {
   "cell_type": "code",
   "execution_count": 22,
   "source": [
    "twenty_lowest_price= suburb_price_distance_grouped_df.sort_values(by=\"Price\").head(20)\r\n",
    "x4= twenty_lowest_price[\"Distance\"]\r\n",
    "y4= twenty_lowest_price[\"Price\"]/1000000\r\n",
    "\r\n",
    "ax= twenty_lowest_price.plot(kind='bar',width=1, align=\"edge\", title=\"20 Lowest Average of House Price by Suburb& Type\", facecolor=\"blue\", legend=False)\r\n",
    "ax.set_xlabel(\"Suburb based on Distance& Type\")\r\n",
    "ax.set_ylabel(\"House Price by Suburb& Type (in Million)\")\r\n",
    "file = os.path.join(\"Images/low20_Suburb_Price_Type_bar.png\")\r\n",
    "plt.savefig(file)"
   ],
   "outputs": [
    {
     "output_type": "display_data",
     "data": {
      "image/png": "[encoded data removed]",
      "text/plain": [
       "<Figure size 432x288 with 1 Axes>"
      ]
     },
     "metadata": {
      "needs_background": "light"
     }
    }
   ],
   "metadata": {}
  },
  {
   "cell_type": "code",
   "execution_count": 23,
   "source": [
    "#Analysis: For having a more precise analysis on the effect of house type on the Melbourne house price, we considered 20 Suburbs with the lowest amount of average house price in Melbourne and their distance from CBD.  \r\n",
    "#It is obvious that there is a upward trend in the relationship between the average house price and their distance from CBD. \r\n",
    "#Besides, it is clear that most types of these 20 houses are from \"t\" or \"u\" type which again means that \"House Type\" has a stong effect on Melbourne house price."
   ],
   "outputs": [],
   "metadata": {}
  },
  {
   "cell_type": "code",
   "execution_count": 24,
   "source": [
    "top_near_distance_df= df.sort_values(by=\"Distance\").head(10)\r\n",
    "\r\n",
    "x5= top_near_distance_df[\"Distance\"]\r\n",
    "y5= top_near_distance_df[\"Price\"]/1000000\r\n",
    "\r\n",
    "(slope, intercept, rvalue, pvalue, std_err) = linregress(x5, y5)\r\n",
    "\r\n",
    "line = slope * x5 + intercept\r\n",
    "line_eq = f\"y = {round(slope,2)}x + {round(intercept,2)}\"\r\n",
    "\r\n",
    "fig, axs = plt.subplots(figsize=(7,7))\r\n",
    "axs.set_autoscale_on(True)\r\n",
    "axs.scatter(x5, y5, marker='o', facecolors=\"blue\", edgecolors=\"blue\")\r\n",
    "plt.plot(x5, line, 'r-')\r\n",
    "plt.title(\"Top 10 near house to CBD by Suburb\")\r\n",
    "plt.xlabel(\"Suburb based on Distance\")\r\n",
    "plt.ylabel(\"House Price by Suburb (in Million)\")\r\n",
    "plt.annotate(line_eq, (-50,80), fontsize=12, color=\"red\")\r\n",
    "\r\n",
    "file = os.path.join(\"Images/top10_near_Suburb_Price_scatter.png\")\r\n",
    "plt.savefig(file)\r\n",
    "plt.show()\r\n",
    "print(f\"The regression line is: {line_eq}\")\r\n",
    "print(f\"The correlation coefficient between top10 near House to CBD in different types& Suburbs is {round(st.pearsonr(x5,y5)[0],2)}, pvalue is {pvalue}\")\r\n",
    "\r\n"
   ],
   "outputs": [
    {
     "output_type": "display_data",
     "data": {
      "image/png": "[encoded data removed]",
      "text/plain": [
       "<Figure size 504x504 with 1 Axes>"
      ]
     },
     "metadata": {
      "needs_background": "light"
     }
    },
    {
     "output_type": "stream",
     "name": "stdout",
     "text": [
      "The regression line is: y = 0.25x + 0.6\n",
      "The correlation coefficient between top10 near House to CBD in different types& Suburbs is 0.53, pvalue is 0.1190609188146324\n"
     ]
    }
   ],
   "metadata": {}
  },
  {
   "cell_type": "code",
   "execution_count": 25,
   "source": [
    "#Analysis: There is a strong positive relationship between the average house price and distance from CBD among top 10 near houses to CBD in different Suburbs in Melbourne,\r\n",
    "#which is shown based on the above red line and the positive amount of slope(0.25). \r\n",
    "#In addition, the correlation coefficient between top 10 naer house to CBD and average price is 0.53 which proves a moderate positive relationship between these values.\r\n",
    "#Furthermore, the pvalue(0.11) which is a little more than 0.05 proves our H0 which means there is no difference between average of house price and distance from CBD in top 10 near houses to CBD in different Suburbs."
   ],
   "outputs": [],
   "metadata": {}
  },
  {
   "cell_type": "code",
   "execution_count": 26,
   "source": [
    "twenty_nearest_price= suburb_price_distance_grouped_df.sort_values(by=\"Distance\").head(20)\r\n",
    "x6= twenty_nearest_price[\"Distance\"]\r\n",
    "y6= twenty_nearest_price[\"Price\"]/1000000\r\n",
    "\r\n",
    "ax= twenty_nearest_price.plot(kind='bar',width=1, align=\"edge\", title=\"Top 20 near house to CBD by Suburb& Type\", facecolor=\"pink\", legend=False)\r\n",
    "ax.set_xlabel(\"Suburb based on Distance& Type\")\r\n",
    "ax.set_ylabel(\"House Price by Suburb& Type (in Million)\")\r\n",
    "file = os.path.join(\"Images/top20_nearest_CBD_Suburb_Price_Type_bar.png\")\r\n",
    "plt.savefig(file)"
   ],
   "outputs": [
    {
     "output_type": "display_data",
     "data": {
      "image/png": "[encoded data removed]",
      "text/plain": [
       "<Figure size 432x288 with 1 Axes>"
      ]
     },
     "metadata": {
      "needs_background": "light"
     }
    }
   ],
   "metadata": {}
  },
  {
   "cell_type": "code",
   "execution_count": 27,
   "source": [
    "#Analysis: We can see a weak positive relationship between top 20 near house to CBD in different suburbs& different types and average house price in Melbourne. "
   ],
   "outputs": [],
   "metadata": {}
  },
  {
   "cell_type": "code",
   "execution_count": 28,
   "source": [
    "(slope, intercept, rvalue, pvalue, std_err) = linregress(x6, y6)\r\n",
    "\r\n",
    "line = slope * x6 + intercept\r\n",
    "line_eq = f\"y = {round(slope,2)}x + {round(intercept,2)}\"\r\n",
    "\r\n",
    "fig, axs = plt.subplots(figsize=(7,7))\r\n",
    "axs.set_autoscale_on(True)\r\n",
    "axs.scatter(x6, y6, marker='^', facecolors=\"blue\", edgecolors=\"blue\")\r\n",
    "plt.plot(x6, line, 'r-')\r\n",
    "plt.title(\"Top 20 near house to CBD by Suburb& Type\")\r\n",
    "plt.xlabel(\"Suburb based on Distance& Type\")\r\n",
    "plt.ylabel(\"House Price by Suburb& Type (in Million)\")\r\n",
    "plt.annotate(line_eq, (-50,80), fontsize=12, color=\"red\")\r\n",
    "\r\n",
    "file = os.path.join(\"Images/top20_nearest_CBD_Suburb_Price_Type_scatter.png\")\r\n",
    "plt.savefig(file)\r\n",
    "plt.show()\r\n",
    "print(f\"The regression line is:{line_eq}\")\r\n",
    "print(f\"The correlation coefficient between top20 near House to CBD in different types& Suburbs  is {round(st.pearsonr(x6,y6)[0],2)}, pvalue is {pvalue}\")\r\n"
   ],
   "outputs": [
    {
     "output_type": "display_data",
     "data": {
      "image/png": "[encoded data removed]",
      "text/plain": [
       "<Figure size 504x504 with 1 Axes>"
      ]
     },
     "metadata": {
      "needs_background": "light"
     }
    },
    {
     "output_type": "stream",
     "name": "stdout",
     "text": [
      "The regression line is:y = 0.22x + 0.76\n",
      "The correlation coefficient between top20 near House to CBD in different types& Suburbs  is 0.19, pvalue is 0.4218668236118518\n"
     ]
    }
   ],
   "metadata": {}
  },
  {
   "cell_type": "code",
   "execution_count": 29,
   "source": [
    "#Analysis: There is a positive relationship between the average house price and distance from CBD among top 20 near houses to CBD in different suburbs and different house types in Melbourne,\r\n",
    "#which is shown based on the above red line and the positive amount of slope(0.22). \r\n",
    "#In addition, the correlation coefficient between top 20 naer house to CBD and average price is 0.19 which proves a weak positive relationship between these values.\r\n",
    "#Furthermore, the pvalue(0.42) which is more than 0.05 proves our H0 which means there is no difference between average of house price and distance from CBD in top 20 near houses to CBD in different Suburbs&types."
   ],
   "outputs": [],
   "metadata": {}
  },
  {
   "cell_type": "code",
   "execution_count": 30,
   "source": [
    "house_data_cleaned['Year'] = pd.DatetimeIndex(house_data_cleaned['Date']).year\r\n",
    "suburb_price_distance_year_grouped_df = house_data_cleaned[['Suburb','Year','Price','Distance']].groupby(['Suburb','Year']).mean()\r\n",
    "pd.set_option('display.float_format', lambda x: '%.2f' % x)\r\n",
    "suburb_price_distance_year_grouped_df.head(20)"
   ],
   "outputs": [
    {
     "output_type": "execute_result",
     "data": {
      "text/html": [
       "<div>\n",
       "<style scoped>\n",
       "    .dataframe tbody tr th:only-of-type {\n",
       "        vertical-align: middle;\n",
       "    }\n",
       "\n",
       "    .dataframe tbody tr th {\n",
       "        vertical-align: top;\n",
       "    }\n",
       "\n",
       "    .dataframe thead th {\n",
       "        text-align: right;\n",
       "    }\n",
       "</style>\n",
       "<table border=\"1\" class=\"dataframe\">\n",
       "  <thead>\n",
       "    <tr style=\"text-align: right;\">\n",
       "      <th></th>\n",
       "      <th></th>\n",
       "      <th>Price</th>\n",
       "      <th>Distance</th>\n",
       "    </tr>\n",
       "    <tr>\n",
       "      <th>Suburb</th>\n",
       "      <th>Year</th>\n",
       "      <th></th>\n",
       "      <th></th>\n",
       "    </tr>\n",
       "  </thead>\n",
       "  <tbody>\n",
       "    <tr>\n",
       "      <th rowspan=\"3\" valign=\"top\">Abbotsford</th>\n",
       "      <th>2016</th>\n",
       "      <td>979102.27</td>\n",
       "      <td>2.50</td>\n",
       "    </tr>\n",
       "    <tr>\n",
       "      <th>2017</th>\n",
       "      <td>1074913.46</td>\n",
       "      <td>2.84</td>\n",
       "    </tr>\n",
       "    <tr>\n",
       "      <th>2018</th>\n",
       "      <td>1074333.33</td>\n",
       "      <td>3.00</td>\n",
       "    </tr>\n",
       "    <tr>\n",
       "      <th rowspan=\"3\" valign=\"top\">Aberfeldie</th>\n",
       "      <th>2016</th>\n",
       "      <td>1258272.73</td>\n",
       "      <td>9.10</td>\n",
       "    </tr>\n",
       "    <tr>\n",
       "      <th>2017</th>\n",
       "      <td>1314546.51</td>\n",
       "      <td>7.98</td>\n",
       "    </tr>\n",
       "    <tr>\n",
       "      <th>2018</th>\n",
       "      <td>1459200.00</td>\n",
       "      <td>7.50</td>\n",
       "    </tr>\n",
       "    <tr>\n",
       "      <th rowspan=\"3\" valign=\"top\">Airport West</th>\n",
       "      <th>2016</th>\n",
       "      <td>697718.18</td>\n",
       "      <td>13.50</td>\n",
       "    </tr>\n",
       "    <tr>\n",
       "      <th>2017</th>\n",
       "      <td>782443.76</td>\n",
       "      <td>11.10</td>\n",
       "    </tr>\n",
       "    <tr>\n",
       "      <th>2018</th>\n",
       "      <td>780375.00</td>\n",
       "      <td>10.40</td>\n",
       "    </tr>\n",
       "    <tr>\n",
       "      <th>Albanvale</th>\n",
       "      <th>2017</th>\n",
       "      <td>536055.56</td>\n",
       "      <td>14.00</td>\n",
       "    </tr>\n",
       "    <tr>\n",
       "      <th rowspan=\"3\" valign=\"top\">Albert Park</th>\n",
       "      <th>2016</th>\n",
       "      <td>1827685.71</td>\n",
       "      <td>3.30</td>\n",
       "    </tr>\n",
       "    <tr>\n",
       "      <th>2017</th>\n",
       "      <td>2053028.30</td>\n",
       "      <td>3.11</td>\n",
       "    </tr>\n",
       "    <tr>\n",
       "      <th>2018</th>\n",
       "      <td>1298400.00</td>\n",
       "      <td>3.00</td>\n",
       "    </tr>\n",
       "    <tr>\n",
       "      <th rowspan=\"3\" valign=\"top\">Albion</th>\n",
       "      <th>2016</th>\n",
       "      <td>547735.29</td>\n",
       "      <td>13.90</td>\n",
       "    </tr>\n",
       "    <tr>\n",
       "      <th>2017</th>\n",
       "      <td>640328.33</td>\n",
       "      <td>11.80</td>\n",
       "    </tr>\n",
       "    <tr>\n",
       "      <th>2018</th>\n",
       "      <td>626000.00</td>\n",
       "      <td>10.50</td>\n",
       "    </tr>\n",
       "    <tr>\n",
       "      <th rowspan=\"3\" valign=\"top\">Alphington</th>\n",
       "      <th>2016</th>\n",
       "      <td>1264080.00</td>\n",
       "      <td>6.40</td>\n",
       "    </tr>\n",
       "    <tr>\n",
       "      <th>2017</th>\n",
       "      <td>1443758.62</td>\n",
       "      <td>5.94</td>\n",
       "    </tr>\n",
       "    <tr>\n",
       "      <th>2018</th>\n",
       "      <td>1647000.00</td>\n",
       "      <td>5.70</td>\n",
       "    </tr>\n",
       "    <tr>\n",
       "      <th>Altona</th>\n",
       "      <th>2016</th>\n",
       "      <td>780480.49</td>\n",
       "      <td>13.80</td>\n",
       "    </tr>\n",
       "  </tbody>\n",
       "</table>\n",
       "</div>"
      ],
      "text/plain": [
       "                       Price  Distance\n",
       "Suburb       Year                     \n",
       "Abbotsford   2016  979102.27      2.50\n",
       "             2017 1074913.46      2.84\n",
       "             2018 1074333.33      3.00\n",
       "Aberfeldie   2016 1258272.73      9.10\n",
       "             2017 1314546.51      7.98\n",
       "             2018 1459200.00      7.50\n",
       "Airport West 2016  697718.18     13.50\n",
       "             2017  782443.76     11.10\n",
       "             2018  780375.00     10.40\n",
       "Albanvale    2017  536055.56     14.00\n",
       "Albert Park  2016 1827685.71      3.30\n",
       "             2017 2053028.30      3.11\n",
       "             2018 1298400.00      3.00\n",
       "Albion       2016  547735.29     13.90\n",
       "             2017  640328.33     11.80\n",
       "             2018  626000.00     10.50\n",
       "Alphington   2016 1264080.00      6.40\n",
       "             2017 1443758.62      5.94\n",
       "             2018 1647000.00      5.70\n",
       "Altona       2016  780480.49     13.80"
      ]
     },
     "metadata": {},
     "execution_count": 30
    }
   ],
   "metadata": {}
  },
  {
   "cell_type": "code",
   "execution_count": 31,
   "source": [
    "twenty_nearest_price_year= suburb_price_distance_year_grouped_df.sort_values(by=\"Distance\").head(20)\r\n",
    "twenty_nearest_price_year.head(20)"
   ],
   "outputs": [
    {
     "output_type": "execute_result",
     "data": {
      "text/html": [
       "<div>\n",
       "<style scoped>\n",
       "    .dataframe tbody tr th:only-of-type {\n",
       "        vertical-align: middle;\n",
       "    }\n",
       "\n",
       "    .dataframe tbody tr th {\n",
       "        vertical-align: top;\n",
       "    }\n",
       "\n",
       "    .dataframe thead th {\n",
       "        text-align: right;\n",
       "    }\n",
       "</style>\n",
       "<table border=\"1\" class=\"dataframe\">\n",
       "  <thead>\n",
       "    <tr style=\"text-align: right;\">\n",
       "      <th></th>\n",
       "      <th></th>\n",
       "      <th>Price</th>\n",
       "      <th>Distance</th>\n",
       "    </tr>\n",
       "    <tr>\n",
       "      <th>Suburb</th>\n",
       "      <th>Year</th>\n",
       "      <th></th>\n",
       "      <th></th>\n",
       "    </tr>\n",
       "  </thead>\n",
       "  <tbody>\n",
       "    <tr>\n",
       "      <th>Melbourne</th>\n",
       "      <th>2018</th>\n",
       "      <td>788884.62</td>\n",
       "      <td>0.00</td>\n",
       "    </tr>\n",
       "    <tr>\n",
       "      <th>Fawkner Lot</th>\n",
       "      <th>2018</th>\n",
       "      <td>616000.00</td>\n",
       "      <td>0.00</td>\n",
       "    </tr>\n",
       "    <tr>\n",
       "      <th rowspan=\"2\" valign=\"top\">Southbank</th>\n",
       "      <th>2018</th>\n",
       "      <td>925812.50</td>\n",
       "      <td>0.70</td>\n",
       "    </tr>\n",
       "    <tr>\n",
       "      <th>2017</th>\n",
       "      <td>559145.83</td>\n",
       "      <td>0.89</td>\n",
       "    </tr>\n",
       "    <tr>\n",
       "      <th>Melbourne</th>\n",
       "      <th>2017</th>\n",
       "      <td>866028.99</td>\n",
       "      <td>0.97</td>\n",
       "    </tr>\n",
       "    <tr>\n",
       "      <th>Southbank</th>\n",
       "      <th>2016</th>\n",
       "      <td>663185.19</td>\n",
       "      <td>1.20</td>\n",
       "    </tr>\n",
       "    <tr>\n",
       "      <th rowspan=\"2\" valign=\"top\">East Melbourne</th>\n",
       "      <th>2018</th>\n",
       "      <td>700000.00</td>\n",
       "      <td>1.30</td>\n",
       "    </tr>\n",
       "    <tr>\n",
       "      <th>2017</th>\n",
       "      <td>1406250.00</td>\n",
       "      <td>1.36</td>\n",
       "    </tr>\n",
       "    <tr>\n",
       "      <th>Docklands</th>\n",
       "      <th>2017</th>\n",
       "      <td>612500.00</td>\n",
       "      <td>1.40</td>\n",
       "    </tr>\n",
       "    <tr>\n",
       "      <th>East Melbourne</th>\n",
       "      <th>2016</th>\n",
       "      <td>1380411.76</td>\n",
       "      <td>1.50</td>\n",
       "    </tr>\n",
       "    <tr>\n",
       "      <th>Collingwood</th>\n",
       "      <th>2016</th>\n",
       "      <td>889800.00</td>\n",
       "      <td>1.60</td>\n",
       "    </tr>\n",
       "    <tr>\n",
       "      <th>Carlton</th>\n",
       "      <th>2018</th>\n",
       "      <td>1350666.67</td>\n",
       "      <td>1.60</td>\n",
       "    </tr>\n",
       "    <tr>\n",
       "      <th>Fitzroy</th>\n",
       "      <th>2016</th>\n",
       "      <td>1219926.47</td>\n",
       "      <td>1.60</td>\n",
       "    </tr>\n",
       "    <tr>\n",
       "      <th>Carlton</th>\n",
       "      <th>2017</th>\n",
       "      <td>1283186.11</td>\n",
       "      <td>1.66</td>\n",
       "    </tr>\n",
       "    <tr>\n",
       "      <th>Parkville</th>\n",
       "      <th>2018</th>\n",
       "      <td>1660000.00</td>\n",
       "      <td>1.80</td>\n",
       "    </tr>\n",
       "    <tr>\n",
       "      <th>Carlton</th>\n",
       "      <th>2016</th>\n",
       "      <td>1000071.21</td>\n",
       "      <td>1.80</td>\n",
       "    </tr>\n",
       "    <tr>\n",
       "      <th>North Melbourne</th>\n",
       "      <th>2018</th>\n",
       "      <td>939041.67</td>\n",
       "      <td>1.80</td>\n",
       "    </tr>\n",
       "    <tr>\n",
       "      <th>Collingwood</th>\n",
       "      <th>2017</th>\n",
       "      <td>907519.61</td>\n",
       "      <td>1.82</td>\n",
       "    </tr>\n",
       "    <tr>\n",
       "      <th>North Melbourne</th>\n",
       "      <th>2017</th>\n",
       "      <td>926500.00</td>\n",
       "      <td>1.88</td>\n",
       "    </tr>\n",
       "    <tr>\n",
       "      <th>West Melbourne</th>\n",
       "      <th>2016</th>\n",
       "      <td>934529.41</td>\n",
       "      <td>1.90</td>\n",
       "    </tr>\n",
       "  </tbody>\n",
       "</table>\n",
       "</div>"
      ],
      "text/plain": [
       "                          Price  Distance\n",
       "Suburb          Year                     \n",
       "Melbourne       2018  788884.62      0.00\n",
       "Fawkner Lot     2018  616000.00      0.00\n",
       "Southbank       2018  925812.50      0.70\n",
       "                2017  559145.83      0.89\n",
       "Melbourne       2017  866028.99      0.97\n",
       "Southbank       2016  663185.19      1.20\n",
       "East Melbourne  2018  700000.00      1.30\n",
       "                2017 1406250.00      1.36\n",
       "Docklands       2017  612500.00      1.40\n",
       "East Melbourne  2016 1380411.76      1.50\n",
       "Collingwood     2016  889800.00      1.60\n",
       "Carlton         2018 1350666.67      1.60\n",
       "Fitzroy         2016 1219926.47      1.60\n",
       "Carlton         2017 1283186.11      1.66\n",
       "Parkville       2018 1660000.00      1.80\n",
       "Carlton         2016 1000071.21      1.80\n",
       "North Melbourne 2018  939041.67      1.80\n",
       "Collingwood     2017  907519.61      1.82\n",
       "North Melbourne 2017  926500.00      1.88\n",
       "West Melbourne  2016  934529.41      1.90"
      ]
     },
     "metadata": {},
     "execution_count": 31
    }
   ],
   "metadata": {}
  },
  {
   "cell_type": "code",
   "execution_count": 32,
   "source": [
    "x7= twenty_nearest_price_year[\"Distance\"]\r\n",
    "y7= twenty_nearest_price_year[\"Price\"]/1000000\r\n",
    "\r\n",
    "ax= twenty_nearest_price_year.plot(kind='bar',width=1, align=\"center\", title=\"Top 20 near house to CBD by Suburb& year\", facecolor=\"red\", legend=False)\r\n",
    "ax.set_xlabel(\"Suburb based on Distance& Year\")\r\n",
    "ax.set_ylabel(\"House Price by Suburb& Year (in Million)\")\r\n",
    "file = os.path.join(\"Images/top20_nearest_CBD_Suburb_Price_Year_bar.png\")\r\n",
    "plt.savefig(file)"
   ],
   "outputs": [
    {
     "output_type": "display_data",
     "data": {
      "image/png": "[encoded data removed]",
      "text/plain": [
       "<Figure size 432x288 with 1 Axes>"
      ]
     },
     "metadata": {
      "needs_background": "light"
     }
    }
   ],
   "metadata": {}
  },
  {
   "cell_type": "code",
   "execution_count": 33,
   "source": [
    "#Analysis: It can be seen that there is a positive relationship between top 20 near house to CBD in different suburbs& different years and average house price in Melbourne. "
   ],
   "outputs": [],
   "metadata": {}
  },
  {
   "cell_type": "code",
   "execution_count": 34,
   "source": [
    "(slope, intercept, rvalue, pvalue, std_err) = linregress(x7, y7)\r\n",
    "\r\n",
    "line = slope * x7 + intercept\r\n",
    "line_eq = f\"y = {round(slope,2)}x + {round(intercept,2)}\"\r\n",
    "\r\n",
    "fig, axs = plt.subplots(figsize=(7,7))\r\n",
    "axs.set_autoscale_on(True)\r\n",
    "axs.scatter(x7, y7, marker='d', facecolors=\"blue\", edgecolors=\"blue\")\r\n",
    "plt.plot(x7, line, 'r-')\r\n",
    "plt.title(\"Top 20 near house to CBD by Suburb& Year\")\r\n",
    "plt.xlabel(\"Suburb based on Distance& Year\")\r\n",
    "plt.ylabel(\"House Price by Suburb& Year (in Million)\")\r\n",
    "plt.annotate(line_eq, (-50,80), fontsize=12, color=\"red\")\r\n",
    "\r\n",
    "file = os.path.join(\"Images/top20_nearest_CBD_Suburb_Price_Year_scatter.png\")\r\n",
    "plt.savefig(file)\r\n",
    "plt.show()\r\n",
    "print(f\"The regression line is: {line_eq}\")\r\n",
    "print(f\"The correlation coefficient between top20 near House to CBD in different Years& Suburbs  is {round(st.pearsonr(x7,y7)[0],2)}, pvalue is {pvalue} \")\r\n"
   ],
   "outputs": [
    {
     "output_type": "display_data",
     "data": {
      "image/png": "[encoded data removed]",
      "text/plain": [
       "<Figure size 504x504 with 1 Axes>"
      ]
     },
     "metadata": {
      "needs_background": "light"
     }
    },
    {
     "output_type": "stream",
     "name": "stdout",
     "text": [
      "The regression line is: y = 0.25x + 0.64\n",
      "The correlation coefficient between top20 near House to CBD in different Years& Suburbs  is 0.47, pvalue is 0.03660152499378278 \n"
     ]
    }
   ],
   "metadata": {}
  },
  {
   "cell_type": "code",
   "execution_count": 35,
   "source": [
    "#Analysis: There is a positive relationship between the average house price and distance from CBD among top 20 near houses to CBD in different suburbs and in different years in Melbourne,\r\n",
    "#which is shown based on the above red line and the positive amount of slope(0.25). \r\n",
    "#In addition, the correlation coefficient between top 20 naer house to CBD and average price is 0.47 which proves a moderate positive relationship between these values.\r\n",
    "#Furthermore, the pvalue(0.03) which is less than 0.05 rejects our H0 which means there is a difference between average of house price and distance from CBD in top 20 near houses to CBD in different Suburbs&years."
   ],
   "outputs": [],
   "metadata": {}
  },
  {
   "cell_type": "code",
   "execution_count": 36,
   "source": [
    "min_distance= house_data_cleaned[\"Distance\"].min()\r\n",
    "max_distance= house_data_cleaned[\"Distance\"].max()\r\n",
    "print(f\"max distance is: {max_distance}, min distance is: {min_distance} \")"
   ],
   "outputs": [
    {
     "output_type": "stream",
     "name": "stdout",
     "text": [
      "max distance is: 48.1, min distance is: 0.0 \n"
     ]
    }
   ],
   "metadata": {}
  },
  {
   "cell_type": "code",
   "execution_count": 37,
   "source": [
    "bins = [0, 9.99, 19.99, 29.99, 39.9, 99999]\r\n",
    "group_labels = [\"0-10\", \"10-20\", \"20-30\", \"30-40\", \"40+\"]\r\n",
    "house_data_cleaned[\"Distance Group\"] = pd.cut(house_data_cleaned[\"Distance\"], bins, labels=group_labels)\r\n",
    "bins_suburb_price_distance_grouped_df = house_data_cleaned[['Suburb','Distance Group','Price','Distance']].groupby(['Distance Group']).mean()\r\n",
    "pd.set_option('display.float_format', lambda x: '%.2f' % x)\r\n",
    "bins_suburb_price_distance_grouped_df"
   ],
   "outputs": [
    {
     "output_type": "execute_result",
     "data": {
      "text/html": [
       "<div>\n",
       "<style scoped>\n",
       "    .dataframe tbody tr th:only-of-type {\n",
       "        vertical-align: middle;\n",
       "    }\n",
       "\n",
       "    .dataframe tbody tr th {\n",
       "        vertical-align: top;\n",
       "    }\n",
       "\n",
       "    .dataframe thead th {\n",
       "        text-align: right;\n",
       "    }\n",
       "</style>\n",
       "<table border=\"1\" class=\"dataframe\">\n",
       "  <thead>\n",
       "    <tr style=\"text-align: right;\">\n",
       "      <th></th>\n",
       "      <th>Price</th>\n",
       "      <th>Distance</th>\n",
       "    </tr>\n",
       "    <tr>\n",
       "      <th>Distance Group</th>\n",
       "      <th></th>\n",
       "      <th></th>\n",
       "    </tr>\n",
       "  </thead>\n",
       "  <tbody>\n",
       "    <tr>\n",
       "      <th>0-10</th>\n",
       "      <td>1170003.67</td>\n",
       "      <td>6.14</td>\n",
       "    </tr>\n",
       "    <tr>\n",
       "      <th>10-20</th>\n",
       "      <td>995118.36</td>\n",
       "      <td>13.50</td>\n",
       "    </tr>\n",
       "    <tr>\n",
       "      <th>20-30</th>\n",
       "      <td>753728.60</td>\n",
       "      <td>23.27</td>\n",
       "    </tr>\n",
       "    <tr>\n",
       "      <th>30-40</th>\n",
       "      <td>629641.51</td>\n",
       "      <td>34.26</td>\n",
       "    </tr>\n",
       "    <tr>\n",
       "      <th>40+</th>\n",
       "      <td>649146.07</td>\n",
       "      <td>45.07</td>\n",
       "    </tr>\n",
       "  </tbody>\n",
       "</table>\n",
       "</div>"
      ],
      "text/plain": [
       "                    Price  Distance\n",
       "Distance Group                     \n",
       "0-10           1170003.67      6.14\n",
       "10-20           995118.36     13.50\n",
       "20-30           753728.60     23.27\n",
       "30-40           629641.51     34.26\n",
       "40+             649146.07     45.07"
      ]
     },
     "metadata": {},
     "execution_count": 37
    }
   ],
   "metadata": {}
  },
  {
   "cell_type": "code",
   "execution_count": 38,
   "source": [
    "x8= bins_suburb_price_distance_grouped_df[\"Distance\"]\r\n",
    "y8= bins_suburb_price_distance_grouped_df[\"Price\"]/1000000\r\n",
    "\r\n",
    "ax= bins_suburb_price_distance_grouped_df.plot(kind='bar',width=1, align=\"edge\", title=\"Average of House Price in different Distance Groups\", facecolor=\"black\", legend=False)\r\n",
    "ax.set_xlabel(\"Distance from CBD\")\r\n",
    "ax.set_ylabel(\"House Price by Suburb (in Million)\")\r\n",
    "file = os.path.join(\"Images/price_distance_group_bar.png\")\r\n",
    "plt.savefig(file)"
   ],
   "outputs": [
    {
     "output_type": "display_data",
     "data": {
      "image/png": "[encoded data removed]",
      "text/plain": [
       "<Figure size 432x288 with 1 Axes>"
      ]
     },
     "metadata": {
      "needs_background": "light"
     }
    }
   ],
   "metadata": {}
  },
  {
   "cell_type": "code",
   "execution_count": 39,
   "source": [
    "#Analysis: There is a downward trend between Average of House Price in different Distance Groups in Melbourne. "
   ],
   "outputs": [],
   "metadata": {}
  },
  {
   "cell_type": "code",
   "execution_count": 40,
   "source": [
    "(slope, intercept, rvalue, pvalue, std_err) = linregress(x8, y8)\r\n",
    "\r\n",
    "line = slope * x8 + intercept\r\n",
    "line_eq = f\"y = {round(slope,2)}x + {round(intercept,2)}\"\r\n",
    "\r\n",
    "fig, axs = plt.subplots(figsize=(7,7))\r\n",
    "axs.set_autoscale_on(True)\r\n",
    "axs.scatter(x8, y8, marker='*', facecolors=\"black\", edgecolors=\"blue\")\r\n",
    "plt.plot(x8, line, 'r-')\r\n",
    "plt.title(\"Average of House Price in different Distance Groups\")\r\n",
    "plt.xlabel(\"Distance from CBD\")\r\n",
    "plt.ylabel(\"House Price by Suburb (in Million)\")\r\n",
    "plt.annotate(line_eq, (-50,80), fontsize=12, color=\"red\")\r\n",
    "\r\n",
    "file = os.path.join(\"Images/price_distance_group_scatter.png\")\r\n",
    "plt.savefig(file)\r\n",
    "plt.show()\r\n",
    "print(f\"The regression line is: {line_eq}\")\r\n",
    "print(f\"The correlation coefficient between Average of House Price in different Distance Groups is {round(st.pearsonr(x8,y8)[0],2)}, pvalue is {pvalue} \")\r\n"
   ],
   "outputs": [
    {
     "output_type": "display_data",
     "data": {
      "image/png": "[encoded data removed]",
      "text/plain": [
       "<Figure size 504x504 with 1 Axes>"
      ]
     },
     "metadata": {
      "needs_background": "light"
     }
    },
    {
     "output_type": "stream",
     "name": "stdout",
     "text": [
      "The regression line is: y = -0.01x + 1.18\n",
      "The correlation coefficient between Average of House Price in different Distance Groups is -0.93, pvalue is 0.023177206064623715 \n"
     ]
    }
   ],
   "metadata": {}
  },
  {
   "cell_type": "code",
   "execution_count": 41,
   "source": [
    "#Analysis: It is clear that there is a negative relationship between the average of house price in different distance groups in Melbourne,\r\n",
    "#which is shown based on the above red line and the negative amount of slope(-0.01). \r\n",
    "#In addition, the correlation coefficient between the average of house price in different distance groups is -0.93 which proves a strong positive relationship between these values.\r\n",
    "#Furthermore, the pvalue(0.02) which is highly less than 0.05 rejects our H0 which means there is a strong difference between the average of house price in different distance groups in Melbourne."
   ],
   "outputs": [],
   "metadata": {}
  },
  {
   "cell_type": "code",
   "execution_count": 42,
   "source": [
    "#Conclusion: \r\n",
    "# Based on the plots, there is a slight negative relationship between the average house price and distance from CBD among different Suburbs in Melbourne.\r\n",
    "#This means that with going furthur from CBD, the house price will drop.\r\n",
    "#Furthermore, the type of houses, specially the type \"h\" house, has a vital effect on the average house price among different Suburbs in Melbourne.\r\n",
    "#We can conclude that the closer \"house\" type to the CBD, the higher house price and it proves our first hypothesis. \r\n",
    "#But the amount of pvalue based on all plots were more than 0.05 which proved the H0 (there is not a meaningful difference between house price and distance from CBD as a whole).   \r\n",
    "\r\n",
    "#It was interesting that all plots, correlation coefficient, regression line and pvalue related to different years (2016 to 2018) proved the positive relationship between house price and distance to CBD.\r\n",
    "# Which means in these 3 years we had a upward trend in this regard. \r\n",
    "\r\n",
    "#Also all the aformentioned statistaical analysis approved the negative relationship between the average of house price in different distance groups in Melbourne,\r\n",
    "#Which means that generally our H0 of hypothesis(1) is rejected and there is a meaningful relationship between house price in different distance groups from CBD and specially in these 3-year period this trend had been proved.    "
   ],
   "outputs": [],
   "metadata": {}
  }
 ],
 "metadata": {
  "orig_nbformat": 4,
  "language_info": {
   "name": "python",
   "version": "3.9.6",
   "mimetype": "text/x-python",
   "codemirror_mode": {
    "name": "ipython",
    "version": 3
   },
   "pygments_lexer": "ipython3",
   "nbconvert_exporter": "python",
   "file_extension": ".py"
  },
  "kernelspec": {
   "name": "python3",
   "display_name": "Python 3.9.6 64-bit ('ipykernel_py3': conda)"
  },
  "interpreter": {
   "hash": "3f20b2fb9afc4ad220052c8ef8af266cb3447b77a5270f031c115844393dfe44"
  }
 },
 "nbformat": 4,
 "nbformat_minor": 2
}