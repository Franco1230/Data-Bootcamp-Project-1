{
 "cells": [
  {
   "cell_type": "code",
   "execution_count": null,
   "source": [
    "# Dependencies and Setup\r\n",
    "import matplotlib.pyplot as plt\r\n",
    "import pandas as pd\r\n",
    "import numpy as np\r\n",
    "import requests\r\n",
    "import time, json, os, csv\r\n",
    "\r\n",
    "from scipy.stats import linregress\r\n",
    "from citipy import citipy\r\n",
    "from pprint import pprint\r\n",
    "\r\n",
    "# Hi Markers, please use your onw API keys to run the script, thank you!\r\n",
    "from api_keys import weather_api_key\r\n",
    "from api_keys import g_key"
   ],
   "outputs": [],
   "metadata": {}
  },
  {
   "cell_type": "code",
   "execution_count": null,
   "source": [
    "# Read data files\r\n",
    "house_data_path = \"../data_source/melb_data.csv\"\r\n",
    "school_data_path = \"../data_source/dv309_schoollocations2021.csv\"\r\n",
    "\r\n",
    "# Set output file path\r\n",
    "output_file = \"../data_source/melbourne_housing_data_main.csv\"\r\n",
    "\r\n",
    "house_data = pd.read_csv(house_data_path)\r\n",
    "school_data = pd.read_csv(school_data_path)\r\n"
   ],
   "outputs": [],
   "metadata": {}
  },
  {
   "cell_type": "code",
   "execution_count": null,
   "source": [],
   "outputs": [],
   "metadata": {}
  }
 ],
 "metadata": {
  "orig_nbformat": 4,
  "language_info": {
   "name": "python",
   "version": "3.9.6",
   "mimetype": "text/x-python",
   "codemirror_mode": {
    "name": "ipython",
    "version": 3
   },
   "pygments_lexer": "ipython3",
   "nbconvert_exporter": "python",
   "file_extension": ".py"
  },
  "kernelspec": {
   "name": "python3",
   "display_name": "Python 3.9.6 64-bit ('pythonData': conda)"
  },
  "interpreter": {
   "hash": "a19ada5e1fb28d2398124d72f5220c6963263362c245ad7923c8641f46f6c7d1"
  }
 },
 "nbformat": 4,
 "nbformat_minor": 2
}